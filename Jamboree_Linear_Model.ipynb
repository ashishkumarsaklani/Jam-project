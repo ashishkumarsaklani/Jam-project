{
  "nbformat": 4,
  "nbformat_minor": 0,
  "metadata": {
    "colab": {
      "provenance": [],
      "toc_visible": true,
      "authorship_tag": "ABX9TyMGBVESBU0AAFSGLfP4zHST",
      "include_colab_link": true
    },
    "kernelspec": {
      "name": "python3",
      "display_name": "Python 3"
    },
    "language_info": {
      "name": "python"
    }
  },
  "cells": [
    {
      "cell_type": "markdown",
      "metadata": {
        "id": "view-in-github",
        "colab_type": "text"
      },
      "source": [
        "<a href=\"https://colab.research.google.com/github/ashishkumarsaklani/Jam-project/blob/main/Jamboree_Linear_Model.ipynb\" target=\"_parent\"><img src=\"https://colab.research.google.com/assets/colab-badge.svg\" alt=\"Open In Colab\"/></a>"
      ]
    },
    {
      "cell_type": "code",
      "execution_count": 118,
      "metadata": {
        "id": "lVdCjcZIAt7M"
      },
      "outputs": [],
      "source": [
        "import pandas as pd\n",
        "import numpy as np\n",
        "import matplotlib.pyplot as plt\n",
        "import seaborn as sns\n",
        "from sklearn.linear_model import LinearRegression\n",
        "from sklearn.model_selection import train_test_split\n",
        "from sklearn.metrics import mean_squared_error, r2_score\n",
        "from sklearn.preprocessing import MinMaxScaler"
      ]
    },
    {
      "cell_type": "code",
      "source": [
        "url ='https://d2beiqkhq929f0.cloudfront.net/public_assets/assets/000/001/839/original/Jamboree_Admission.csv'\n",
        "\n",
        "df = pd.read_csv(url)\n",
        "\n",
        "df = df.drop('Serial No.', axis=1)\n",
        "\n",
        "#checking data\n",
        "df.head().style.set_properties(**{'background':'black','border': '1.5px solid blue','color': 'red'})"
      ],
      "metadata": {
        "colab": {
          "base_uri": "https://localhost:8080/",
          "height": 210
        },
        "id": "6tYpkPzrBBfZ",
        "outputId": "60d6ac91-832f-4429-a896-d1b782796a95"
      },
      "execution_count": 119,
      "outputs": [
        {
          "output_type": "execute_result",
          "data": {
            "text/plain": [
              "<pandas.io.formats.style.Styler at 0x7ca0f80c04f0>"
            ],
            "text/html": [
              "<style type=\"text/css\">\n",
              "#T_dcc72_row0_col0, #T_dcc72_row0_col1, #T_dcc72_row0_col2, #T_dcc72_row0_col3, #T_dcc72_row0_col4, #T_dcc72_row0_col5, #T_dcc72_row0_col6, #T_dcc72_row0_col7, #T_dcc72_row1_col0, #T_dcc72_row1_col1, #T_dcc72_row1_col2, #T_dcc72_row1_col3, #T_dcc72_row1_col4, #T_dcc72_row1_col5, #T_dcc72_row1_col6, #T_dcc72_row1_col7, #T_dcc72_row2_col0, #T_dcc72_row2_col1, #T_dcc72_row2_col2, #T_dcc72_row2_col3, #T_dcc72_row2_col4, #T_dcc72_row2_col5, #T_dcc72_row2_col6, #T_dcc72_row2_col7, #T_dcc72_row3_col0, #T_dcc72_row3_col1, #T_dcc72_row3_col2, #T_dcc72_row3_col3, #T_dcc72_row3_col4, #T_dcc72_row3_col5, #T_dcc72_row3_col6, #T_dcc72_row3_col7, #T_dcc72_row4_col0, #T_dcc72_row4_col1, #T_dcc72_row4_col2, #T_dcc72_row4_col3, #T_dcc72_row4_col4, #T_dcc72_row4_col5, #T_dcc72_row4_col6, #T_dcc72_row4_col7 {\n",
              "  background: black;\n",
              "  border: 1.5px solid blue;\n",
              "  color: red;\n",
              "}\n",
              "</style>\n",
              "<table id=\"T_dcc72\" class=\"dataframe\">\n",
              "  <thead>\n",
              "    <tr>\n",
              "      <th class=\"blank level0\" >&nbsp;</th>\n",
              "      <th id=\"T_dcc72_level0_col0\" class=\"col_heading level0 col0\" >GRE Score</th>\n",
              "      <th id=\"T_dcc72_level0_col1\" class=\"col_heading level0 col1\" >TOEFL Score</th>\n",
              "      <th id=\"T_dcc72_level0_col2\" class=\"col_heading level0 col2\" >University Rating</th>\n",
              "      <th id=\"T_dcc72_level0_col3\" class=\"col_heading level0 col3\" >SOP</th>\n",
              "      <th id=\"T_dcc72_level0_col4\" class=\"col_heading level0 col4\" >LOR </th>\n",
              "      <th id=\"T_dcc72_level0_col5\" class=\"col_heading level0 col5\" >CGPA</th>\n",
              "      <th id=\"T_dcc72_level0_col6\" class=\"col_heading level0 col6\" >Research</th>\n",
              "      <th id=\"T_dcc72_level0_col7\" class=\"col_heading level0 col7\" >Chance of Admit </th>\n",
              "    </tr>\n",
              "  </thead>\n",
              "  <tbody>\n",
              "    <tr>\n",
              "      <th id=\"T_dcc72_level0_row0\" class=\"row_heading level0 row0\" >0</th>\n",
              "      <td id=\"T_dcc72_row0_col0\" class=\"data row0 col0\" >337</td>\n",
              "      <td id=\"T_dcc72_row0_col1\" class=\"data row0 col1\" >118</td>\n",
              "      <td id=\"T_dcc72_row0_col2\" class=\"data row0 col2\" >4</td>\n",
              "      <td id=\"T_dcc72_row0_col3\" class=\"data row0 col3\" >4.500000</td>\n",
              "      <td id=\"T_dcc72_row0_col4\" class=\"data row0 col4\" >4.500000</td>\n",
              "      <td id=\"T_dcc72_row0_col5\" class=\"data row0 col5\" >9.650000</td>\n",
              "      <td id=\"T_dcc72_row0_col6\" class=\"data row0 col6\" >1</td>\n",
              "      <td id=\"T_dcc72_row0_col7\" class=\"data row0 col7\" >0.920000</td>\n",
              "    </tr>\n",
              "    <tr>\n",
              "      <th id=\"T_dcc72_level0_row1\" class=\"row_heading level0 row1\" >1</th>\n",
              "      <td id=\"T_dcc72_row1_col0\" class=\"data row1 col0\" >324</td>\n",
              "      <td id=\"T_dcc72_row1_col1\" class=\"data row1 col1\" >107</td>\n",
              "      <td id=\"T_dcc72_row1_col2\" class=\"data row1 col2\" >4</td>\n",
              "      <td id=\"T_dcc72_row1_col3\" class=\"data row1 col3\" >4.000000</td>\n",
              "      <td id=\"T_dcc72_row1_col4\" class=\"data row1 col4\" >4.500000</td>\n",
              "      <td id=\"T_dcc72_row1_col5\" class=\"data row1 col5\" >8.870000</td>\n",
              "      <td id=\"T_dcc72_row1_col6\" class=\"data row1 col6\" >1</td>\n",
              "      <td id=\"T_dcc72_row1_col7\" class=\"data row1 col7\" >0.760000</td>\n",
              "    </tr>\n",
              "    <tr>\n",
              "      <th id=\"T_dcc72_level0_row2\" class=\"row_heading level0 row2\" >2</th>\n",
              "      <td id=\"T_dcc72_row2_col0\" class=\"data row2 col0\" >316</td>\n",
              "      <td id=\"T_dcc72_row2_col1\" class=\"data row2 col1\" >104</td>\n",
              "      <td id=\"T_dcc72_row2_col2\" class=\"data row2 col2\" >3</td>\n",
              "      <td id=\"T_dcc72_row2_col3\" class=\"data row2 col3\" >3.000000</td>\n",
              "      <td id=\"T_dcc72_row2_col4\" class=\"data row2 col4\" >3.500000</td>\n",
              "      <td id=\"T_dcc72_row2_col5\" class=\"data row2 col5\" >8.000000</td>\n",
              "      <td id=\"T_dcc72_row2_col6\" class=\"data row2 col6\" >1</td>\n",
              "      <td id=\"T_dcc72_row2_col7\" class=\"data row2 col7\" >0.720000</td>\n",
              "    </tr>\n",
              "    <tr>\n",
              "      <th id=\"T_dcc72_level0_row3\" class=\"row_heading level0 row3\" >3</th>\n",
              "      <td id=\"T_dcc72_row3_col0\" class=\"data row3 col0\" >322</td>\n",
              "      <td id=\"T_dcc72_row3_col1\" class=\"data row3 col1\" >110</td>\n",
              "      <td id=\"T_dcc72_row3_col2\" class=\"data row3 col2\" >3</td>\n",
              "      <td id=\"T_dcc72_row3_col3\" class=\"data row3 col3\" >3.500000</td>\n",
              "      <td id=\"T_dcc72_row3_col4\" class=\"data row3 col4\" >2.500000</td>\n",
              "      <td id=\"T_dcc72_row3_col5\" class=\"data row3 col5\" >8.670000</td>\n",
              "      <td id=\"T_dcc72_row3_col6\" class=\"data row3 col6\" >1</td>\n",
              "      <td id=\"T_dcc72_row3_col7\" class=\"data row3 col7\" >0.800000</td>\n",
              "    </tr>\n",
              "    <tr>\n",
              "      <th id=\"T_dcc72_level0_row4\" class=\"row_heading level0 row4\" >4</th>\n",
              "      <td id=\"T_dcc72_row4_col0\" class=\"data row4 col0\" >314</td>\n",
              "      <td id=\"T_dcc72_row4_col1\" class=\"data row4 col1\" >103</td>\n",
              "      <td id=\"T_dcc72_row4_col2\" class=\"data row4 col2\" >2</td>\n",
              "      <td id=\"T_dcc72_row4_col3\" class=\"data row4 col3\" >2.000000</td>\n",
              "      <td id=\"T_dcc72_row4_col4\" class=\"data row4 col4\" >3.000000</td>\n",
              "      <td id=\"T_dcc72_row4_col5\" class=\"data row4 col5\" >8.210000</td>\n",
              "      <td id=\"T_dcc72_row4_col6\" class=\"data row4 col6\" >0</td>\n",
              "      <td id=\"T_dcc72_row4_col7\" class=\"data row4 col7\" >0.650000</td>\n",
              "    </tr>\n",
              "  </tbody>\n",
              "</table>\n"
            ]
          },
          "metadata": {},
          "execution_count": 119
        }
      ]
    },
    {
      "cell_type": "code",
      "source": [
        "#setting X and y\n",
        "\n",
        "X = df.drop('Chance of Admit ', axis=1)\n",
        "y = df['Chance of Admit ']\n",
        "\n"
      ],
      "metadata": {
        "id": "nkUC8ZPsBF-_"
      },
      "execution_count": 120,
      "outputs": []
    },
    {
      "cell_type": "code",
      "source": [
        "#spliting train and test\n",
        "\n",
        "X_train, X_test, y_train, y_test = train_test_split(X, y, test_size=0.2, random_state=42)\n"
      ],
      "metadata": {
        "id": "6cFTRl7tB_wI"
      },
      "execution_count": 121,
      "outputs": []
    },
    {
      "cell_type": "code",
      "source": [
        "X_test.head()"
      ],
      "metadata": {
        "colab": {
          "base_uri": "https://localhost:8080/",
          "height": 206
        },
        "id": "Sm3hgeNc6Zx9",
        "outputId": "59ec3a1f-18c5-4c03-8ae5-8b5dba70b867"
      },
      "execution_count": 122,
      "outputs": [
        {
          "output_type": "execute_result",
          "data": {
            "text/plain": [
              "     GRE Score  TOEFL Score  University Rating  SOP  LOR   CGPA  Research\n",
              "361        334          116                  4  4.0   3.5  9.54         1\n",
              "73         314          108                  4  4.5   4.0  9.04         1\n",
              "374        315          105                  2  2.0   2.5  7.65         0\n",
              "155        312          109                  3  3.0   3.0  8.69         0\n",
              "104        326          112                  3  3.5   3.0  9.05         1"
            ],
            "text/html": [
              "\n",
              "  <div id=\"df-988145a2-7c43-4426-9bc7-6d88f64632bd\" class=\"colab-df-container\">\n",
              "    <div>\n",
              "<style scoped>\n",
              "    .dataframe tbody tr th:only-of-type {\n",
              "        vertical-align: middle;\n",
              "    }\n",
              "\n",
              "    .dataframe tbody tr th {\n",
              "        vertical-align: top;\n",
              "    }\n",
              "\n",
              "    .dataframe thead th {\n",
              "        text-align: right;\n",
              "    }\n",
              "</style>\n",
              "<table border=\"1\" class=\"dataframe\">\n",
              "  <thead>\n",
              "    <tr style=\"text-align: right;\">\n",
              "      <th></th>\n",
              "      <th>GRE Score</th>\n",
              "      <th>TOEFL Score</th>\n",
              "      <th>University Rating</th>\n",
              "      <th>SOP</th>\n",
              "      <th>LOR</th>\n",
              "      <th>CGPA</th>\n",
              "      <th>Research</th>\n",
              "    </tr>\n",
              "  </thead>\n",
              "  <tbody>\n",
              "    <tr>\n",
              "      <th>361</th>\n",
              "      <td>334</td>\n",
              "      <td>116</td>\n",
              "      <td>4</td>\n",
              "      <td>4.0</td>\n",
              "      <td>3.5</td>\n",
              "      <td>9.54</td>\n",
              "      <td>1</td>\n",
              "    </tr>\n",
              "    <tr>\n",
              "      <th>73</th>\n",
              "      <td>314</td>\n",
              "      <td>108</td>\n",
              "      <td>4</td>\n",
              "      <td>4.5</td>\n",
              "      <td>4.0</td>\n",
              "      <td>9.04</td>\n",
              "      <td>1</td>\n",
              "    </tr>\n",
              "    <tr>\n",
              "      <th>374</th>\n",
              "      <td>315</td>\n",
              "      <td>105</td>\n",
              "      <td>2</td>\n",
              "      <td>2.0</td>\n",
              "      <td>2.5</td>\n",
              "      <td>7.65</td>\n",
              "      <td>0</td>\n",
              "    </tr>\n",
              "    <tr>\n",
              "      <th>155</th>\n",
              "      <td>312</td>\n",
              "      <td>109</td>\n",
              "      <td>3</td>\n",
              "      <td>3.0</td>\n",
              "      <td>3.0</td>\n",
              "      <td>8.69</td>\n",
              "      <td>0</td>\n",
              "    </tr>\n",
              "    <tr>\n",
              "      <th>104</th>\n",
              "      <td>326</td>\n",
              "      <td>112</td>\n",
              "      <td>3</td>\n",
              "      <td>3.5</td>\n",
              "      <td>3.0</td>\n",
              "      <td>9.05</td>\n",
              "      <td>1</td>\n",
              "    </tr>\n",
              "  </tbody>\n",
              "</table>\n",
              "</div>\n",
              "    <div class=\"colab-df-buttons\">\n",
              "\n",
              "  <div class=\"colab-df-container\">\n",
              "    <button class=\"colab-df-convert\" onclick=\"convertToInteractive('df-988145a2-7c43-4426-9bc7-6d88f64632bd')\"\n",
              "            title=\"Convert this dataframe to an interactive table.\"\n",
              "            style=\"display:none;\">\n",
              "\n",
              "  <svg xmlns=\"http://www.w3.org/2000/svg\" height=\"24px\" viewBox=\"0 -960 960 960\">\n",
              "    <path d=\"M120-120v-720h720v720H120Zm60-500h600v-160H180v160Zm220 220h160v-160H400v160Zm0 220h160v-160H400v160ZM180-400h160v-160H180v160Zm440 0h160v-160H620v160ZM180-180h160v-160H180v160Zm440 0h160v-160H620v160Z\"/>\n",
              "  </svg>\n",
              "    </button>\n",
              "\n",
              "  <style>\n",
              "    .colab-df-container {\n",
              "      display:flex;\n",
              "      gap: 12px;\n",
              "    }\n",
              "\n",
              "    .colab-df-convert {\n",
              "      background-color: #E8F0FE;\n",
              "      border: none;\n",
              "      border-radius: 50%;\n",
              "      cursor: pointer;\n",
              "      display: none;\n",
              "      fill: #1967D2;\n",
              "      height: 32px;\n",
              "      padding: 0 0 0 0;\n",
              "      width: 32px;\n",
              "    }\n",
              "\n",
              "    .colab-df-convert:hover {\n",
              "      background-color: #E2EBFA;\n",
              "      box-shadow: 0px 1px 2px rgba(60, 64, 67, 0.3), 0px 1px 3px 1px rgba(60, 64, 67, 0.15);\n",
              "      fill: #174EA6;\n",
              "    }\n",
              "\n",
              "    .colab-df-buttons div {\n",
              "      margin-bottom: 4px;\n",
              "    }\n",
              "\n",
              "    [theme=dark] .colab-df-convert {\n",
              "      background-color: #3B4455;\n",
              "      fill: #D2E3FC;\n",
              "    }\n",
              "\n",
              "    [theme=dark] .colab-df-convert:hover {\n",
              "      background-color: #434B5C;\n",
              "      box-shadow: 0px 1px 3px 1px rgba(0, 0, 0, 0.15);\n",
              "      filter: drop-shadow(0px 1px 2px rgba(0, 0, 0, 0.3));\n",
              "      fill: #FFFFFF;\n",
              "    }\n",
              "  </style>\n",
              "\n",
              "    <script>\n",
              "      const buttonEl =\n",
              "        document.querySelector('#df-988145a2-7c43-4426-9bc7-6d88f64632bd button.colab-df-convert');\n",
              "      buttonEl.style.display =\n",
              "        google.colab.kernel.accessAllowed ? 'block' : 'none';\n",
              "\n",
              "      async function convertToInteractive(key) {\n",
              "        const element = document.querySelector('#df-988145a2-7c43-4426-9bc7-6d88f64632bd');\n",
              "        const dataTable =\n",
              "          await google.colab.kernel.invokeFunction('convertToInteractive',\n",
              "                                                    [key], {});\n",
              "        if (!dataTable) return;\n",
              "\n",
              "        const docLinkHtml = 'Like what you see? Visit the ' +\n",
              "          '<a target=\"_blank\" href=https://colab.research.google.com/notebooks/data_table.ipynb>data table notebook</a>'\n",
              "          + ' to learn more about interactive tables.';\n",
              "        element.innerHTML = '';\n",
              "        dataTable['output_type'] = 'display_data';\n",
              "        await google.colab.output.renderOutput(dataTable, element);\n",
              "        const docLink = document.createElement('div');\n",
              "        docLink.innerHTML = docLinkHtml;\n",
              "        element.appendChild(docLink);\n",
              "      }\n",
              "    </script>\n",
              "  </div>\n",
              "\n",
              "\n",
              "<div id=\"df-d6a045ee-65be-45cb-92ce-3e89616902f1\">\n",
              "  <button class=\"colab-df-quickchart\" onclick=\"quickchart('df-d6a045ee-65be-45cb-92ce-3e89616902f1')\"\n",
              "            title=\"Suggest charts\"\n",
              "            style=\"display:none;\">\n",
              "\n",
              "<svg xmlns=\"http://www.w3.org/2000/svg\" height=\"24px\"viewBox=\"0 0 24 24\"\n",
              "     width=\"24px\">\n",
              "    <g>\n",
              "        <path d=\"M19 3H5c-1.1 0-2 .9-2 2v14c0 1.1.9 2 2 2h14c1.1 0 2-.9 2-2V5c0-1.1-.9-2-2-2zM9 17H7v-7h2v7zm4 0h-2V7h2v10zm4 0h-2v-4h2v4z\"/>\n",
              "    </g>\n",
              "</svg>\n",
              "  </button>\n",
              "\n",
              "<style>\n",
              "  .colab-df-quickchart {\n",
              "      --bg-color: #E8F0FE;\n",
              "      --fill-color: #1967D2;\n",
              "      --hover-bg-color: #E2EBFA;\n",
              "      --hover-fill-color: #174EA6;\n",
              "      --disabled-fill-color: #AAA;\n",
              "      --disabled-bg-color: #DDD;\n",
              "  }\n",
              "\n",
              "  [theme=dark] .colab-df-quickchart {\n",
              "      --bg-color: #3B4455;\n",
              "      --fill-color: #D2E3FC;\n",
              "      --hover-bg-color: #434B5C;\n",
              "      --hover-fill-color: #FFFFFF;\n",
              "      --disabled-bg-color: #3B4455;\n",
              "      --disabled-fill-color: #666;\n",
              "  }\n",
              "\n",
              "  .colab-df-quickchart {\n",
              "    background-color: var(--bg-color);\n",
              "    border: none;\n",
              "    border-radius: 50%;\n",
              "    cursor: pointer;\n",
              "    display: none;\n",
              "    fill: var(--fill-color);\n",
              "    height: 32px;\n",
              "    padding: 0;\n",
              "    width: 32px;\n",
              "  }\n",
              "\n",
              "  .colab-df-quickchart:hover {\n",
              "    background-color: var(--hover-bg-color);\n",
              "    box-shadow: 0 1px 2px rgba(60, 64, 67, 0.3), 0 1px 3px 1px rgba(60, 64, 67, 0.15);\n",
              "    fill: var(--button-hover-fill-color);\n",
              "  }\n",
              "\n",
              "  .colab-df-quickchart-complete:disabled,\n",
              "  .colab-df-quickchart-complete:disabled:hover {\n",
              "    background-color: var(--disabled-bg-color);\n",
              "    fill: var(--disabled-fill-color);\n",
              "    box-shadow: none;\n",
              "  }\n",
              "\n",
              "  .colab-df-spinner {\n",
              "    border: 2px solid var(--fill-color);\n",
              "    border-color: transparent;\n",
              "    border-bottom-color: var(--fill-color);\n",
              "    animation:\n",
              "      spin 1s steps(1) infinite;\n",
              "  }\n",
              "\n",
              "  @keyframes spin {\n",
              "    0% {\n",
              "      border-color: transparent;\n",
              "      border-bottom-color: var(--fill-color);\n",
              "      border-left-color: var(--fill-color);\n",
              "    }\n",
              "    20% {\n",
              "      border-color: transparent;\n",
              "      border-left-color: var(--fill-color);\n",
              "      border-top-color: var(--fill-color);\n",
              "    }\n",
              "    30% {\n",
              "      border-color: transparent;\n",
              "      border-left-color: var(--fill-color);\n",
              "      border-top-color: var(--fill-color);\n",
              "      border-right-color: var(--fill-color);\n",
              "    }\n",
              "    40% {\n",
              "      border-color: transparent;\n",
              "      border-right-color: var(--fill-color);\n",
              "      border-top-color: var(--fill-color);\n",
              "    }\n",
              "    60% {\n",
              "      border-color: transparent;\n",
              "      border-right-color: var(--fill-color);\n",
              "    }\n",
              "    80% {\n",
              "      border-color: transparent;\n",
              "      border-right-color: var(--fill-color);\n",
              "      border-bottom-color: var(--fill-color);\n",
              "    }\n",
              "    90% {\n",
              "      border-color: transparent;\n",
              "      border-bottom-color: var(--fill-color);\n",
              "    }\n",
              "  }\n",
              "</style>\n",
              "\n",
              "  <script>\n",
              "    async function quickchart(key) {\n",
              "      const quickchartButtonEl =\n",
              "        document.querySelector('#' + key + ' button');\n",
              "      quickchartButtonEl.disabled = true;  // To prevent multiple clicks.\n",
              "      quickchartButtonEl.classList.add('colab-df-spinner');\n",
              "      try {\n",
              "        const charts = await google.colab.kernel.invokeFunction(\n",
              "            'suggestCharts', [key], {});\n",
              "      } catch (error) {\n",
              "        console.error('Error during call to suggestCharts:', error);\n",
              "      }\n",
              "      quickchartButtonEl.classList.remove('colab-df-spinner');\n",
              "      quickchartButtonEl.classList.add('colab-df-quickchart-complete');\n",
              "    }\n",
              "    (() => {\n",
              "      let quickchartButtonEl =\n",
              "        document.querySelector('#df-d6a045ee-65be-45cb-92ce-3e89616902f1 button');\n",
              "      quickchartButtonEl.style.display =\n",
              "        google.colab.kernel.accessAllowed ? 'block' : 'none';\n",
              "    })();\n",
              "  </script>\n",
              "</div>\n",
              "\n",
              "    </div>\n",
              "  </div>\n"
            ]
          },
          "metadata": {},
          "execution_count": 122
        }
      ]
    },
    {
      "cell_type": "code",
      "source": [
        "print(X_train.shape)\n",
        "print(y_train.shape)"
      ],
      "metadata": {
        "colab": {
          "base_uri": "https://localhost:8080/"
        },
        "id": "1l-Keq5_4dU6",
        "outputId": "e75db5ff-9895-42c0-c673-32a59c8c1a0d"
      },
      "execution_count": 123,
      "outputs": [
        {
          "output_type": "stream",
          "name": "stdout",
          "text": [
            "(400, 7)\n",
            "(400,)\n"
          ]
        }
      ]
    },
    {
      "cell_type": "code",
      "source": [
        "\n",
        "# Initialize the model\n",
        "model = LinearRegression()\n",
        "model_scaled = LinearRegression()\n",
        "\n",
        "\n",
        "# Fit the model on the training data\n",
        "model.fit(X_train, y_train)\n"
      ],
      "metadata": {
        "colab": {
          "base_uri": "https://localhost:8080/",
          "height": 74
        },
        "id": "qashkL-zCDvp",
        "outputId": "8d7a48dc-57f0-4eb4-c276-01f4a6cbf1ba"
      },
      "execution_count": 124,
      "outputs": [
        {
          "output_type": "execute_result",
          "data": {
            "text/plain": [
              "LinearRegression()"
            ],
            "text/html": [
              "<style>#sk-container-id-8 {color: black;background-color: white;}#sk-container-id-8 pre{padding: 0;}#sk-container-id-8 div.sk-toggleable {background-color: white;}#sk-container-id-8 label.sk-toggleable__label {cursor: pointer;display: block;width: 100%;margin-bottom: 0;padding: 0.3em;box-sizing: border-box;text-align: center;}#sk-container-id-8 label.sk-toggleable__label-arrow:before {content: \"▸\";float: left;margin-right: 0.25em;color: #696969;}#sk-container-id-8 label.sk-toggleable__label-arrow:hover:before {color: black;}#sk-container-id-8 div.sk-estimator:hover label.sk-toggleable__label-arrow:before {color: black;}#sk-container-id-8 div.sk-toggleable__content {max-height: 0;max-width: 0;overflow: hidden;text-align: left;background-color: #f0f8ff;}#sk-container-id-8 div.sk-toggleable__content pre {margin: 0.2em;color: black;border-radius: 0.25em;background-color: #f0f8ff;}#sk-container-id-8 input.sk-toggleable__control:checked~div.sk-toggleable__content {max-height: 200px;max-width: 100%;overflow: auto;}#sk-container-id-8 input.sk-toggleable__control:checked~label.sk-toggleable__label-arrow:before {content: \"▾\";}#sk-container-id-8 div.sk-estimator input.sk-toggleable__control:checked~label.sk-toggleable__label {background-color: #d4ebff;}#sk-container-id-8 div.sk-label input.sk-toggleable__control:checked~label.sk-toggleable__label {background-color: #d4ebff;}#sk-container-id-8 input.sk-hidden--visually {border: 0;clip: rect(1px 1px 1px 1px);clip: rect(1px, 1px, 1px, 1px);height: 1px;margin: -1px;overflow: hidden;padding: 0;position: absolute;width: 1px;}#sk-container-id-8 div.sk-estimator {font-family: monospace;background-color: #f0f8ff;border: 1px dotted black;border-radius: 0.25em;box-sizing: border-box;margin-bottom: 0.5em;}#sk-container-id-8 div.sk-estimator:hover {background-color: #d4ebff;}#sk-container-id-8 div.sk-parallel-item::after {content: \"\";width: 100%;border-bottom: 1px solid gray;flex-grow: 1;}#sk-container-id-8 div.sk-label:hover label.sk-toggleable__label {background-color: #d4ebff;}#sk-container-id-8 div.sk-serial::before {content: \"\";position: absolute;border-left: 1px solid gray;box-sizing: border-box;top: 0;bottom: 0;left: 50%;z-index: 0;}#sk-container-id-8 div.sk-serial {display: flex;flex-direction: column;align-items: center;background-color: white;padding-right: 0.2em;padding-left: 0.2em;position: relative;}#sk-container-id-8 div.sk-item {position: relative;z-index: 1;}#sk-container-id-8 div.sk-parallel {display: flex;align-items: stretch;justify-content: center;background-color: white;position: relative;}#sk-container-id-8 div.sk-item::before, #sk-container-id-8 div.sk-parallel-item::before {content: \"\";position: absolute;border-left: 1px solid gray;box-sizing: border-box;top: 0;bottom: 0;left: 50%;z-index: -1;}#sk-container-id-8 div.sk-parallel-item {display: flex;flex-direction: column;z-index: 1;position: relative;background-color: white;}#sk-container-id-8 div.sk-parallel-item:first-child::after {align-self: flex-end;width: 50%;}#sk-container-id-8 div.sk-parallel-item:last-child::after {align-self: flex-start;width: 50%;}#sk-container-id-8 div.sk-parallel-item:only-child::after {width: 0;}#sk-container-id-8 div.sk-dashed-wrapped {border: 1px dashed gray;margin: 0 0.4em 0.5em 0.4em;box-sizing: border-box;padding-bottom: 0.4em;background-color: white;}#sk-container-id-8 div.sk-label label {font-family: monospace;font-weight: bold;display: inline-block;line-height: 1.2em;}#sk-container-id-8 div.sk-label-container {text-align: center;}#sk-container-id-8 div.sk-container {/* jupyter's `normalize.less` sets `[hidden] { display: none; }` but bootstrap.min.css set `[hidden] { display: none !important; }` so we also need the `!important` here to be able to override the default hidden behavior on the sphinx rendered scikit-learn.org. See: https://github.com/scikit-learn/scikit-learn/issues/21755 */display: inline-block !important;position: relative;}#sk-container-id-8 div.sk-text-repr-fallback {display: none;}</style><div id=\"sk-container-id-8\" class=\"sk-top-container\"><div class=\"sk-text-repr-fallback\"><pre>LinearRegression()</pre><b>In a Jupyter environment, please rerun this cell to show the HTML representation or trust the notebook. <br />On GitHub, the HTML representation is unable to render, please try loading this page with nbviewer.org.</b></div><div class=\"sk-container\" hidden><div class=\"sk-item\"><div class=\"sk-estimator sk-toggleable\"><input class=\"sk-toggleable__control sk-hidden--visually\" id=\"sk-estimator-id-8\" type=\"checkbox\" checked><label for=\"sk-estimator-id-8\" class=\"sk-toggleable__label sk-toggleable__label-arrow\">LinearRegression</label><div class=\"sk-toggleable__content\"><pre>LinearRegression()</pre></div></div></div></div></div>"
            ]
          },
          "metadata": {},
          "execution_count": 124
        }
      ]
    },
    {
      "cell_type": "code",
      "source": [
        "# Make predictions\n",
        "y_pred = model.predict(X_test)\n",
        "\n",
        "\n",
        "# Evaluate the model\n",
        "mse = mean_squared_error(y_test, y_pred)\n",
        "r2 = r2_score(y_test, y_pred)\n",
        "\n",
        "\n",
        "\n",
        "print(f'Mean Squared Error: {mse}')\n",
        "print(f'R-squared Value: {r2}')\n",
        "\n"
      ],
      "metadata": {
        "colab": {
          "base_uri": "https://localhost:8080/"
        },
        "id": "gUyXqeU4CKWB",
        "outputId": "f42a1081-9841-4f60-beb0-914b0074b373"
      },
      "execution_count": 125,
      "outputs": [
        {
          "output_type": "stream",
          "name": "stdout",
          "text": [
            "Mean Squared Error: 0.003704655398788405\n",
            "R-squared Value: 0.8188432567829631\n"
          ]
        }
      ]
    },
    {
      "cell_type": "code",
      "source": [
        "coefficients = pd.DataFrame({'Feature': X.columns, 'Coefficient': model.coef_})\n",
        "print(coefficients)\n"
      ],
      "metadata": {
        "colab": {
          "base_uri": "https://localhost:8080/"
        },
        "id": "4Xu1qN52CN5p",
        "outputId": "414cba29-0cbf-47b7-e3fd-d212dcd10455"
      },
      "execution_count": 126,
      "outputs": [
        {
          "output_type": "stream",
          "name": "stdout",
          "text": [
            "             Feature  Coefficient\n",
            "0          GRE Score     0.002434\n",
            "1        TOEFL Score     0.002996\n",
            "2  University Rating     0.002569\n",
            "3                SOP     0.001814\n",
            "4               LOR      0.017238\n",
            "5               CGPA     0.112527\n",
            "6           Research     0.024027\n"
          ]
        }
      ]
    },
    {
      "cell_type": "code",
      "source": [
        "plt.scatter(y_test, y_pred)\n",
        "plt.xlabel('Actual Values')\n",
        "plt.ylabel('Predicted Values')\n",
        "plt.title('Actual vs. Predicted Values')\n",
        "plt.show()\n"
      ],
      "metadata": {
        "colab": {
          "base_uri": "https://localhost:8080/",
          "height": 472
        },
        "id": "grd3I-W5CQ3Z",
        "outputId": "b26bc9da-e1a4-4624-d5a1-641e7df0a230"
      },
      "execution_count": 127,
      "outputs": [
        {
          "output_type": "display_data",
          "data": {
            "text/plain": [
              "<Figure size 640x480 with 1 Axes>"
            ],
            "image/png": "[encoded data removed]"
          },
          "metadata": {}
        }
      ]
    },
    {
      "cell_type": "code",
      "source": [
        "\n",
        "# Min-Max scaling\n",
        "scaler = MinMaxScaler()\n",
        "X_train_scaled = scaler.fit_transform(X_train)\n",
        "X_test_scaled = scaler.transform(X_test)\n",
        "\n",
        "# Linear Regression Model\n",
        "model_scaled = LinearRegression()\n",
        "model_scaled.fit(X_train_scaled, y_train)\n",
        "\n",
        "# Model Evaluation\n",
        "y_pred_scaled = model_scaled.predict(X_test_scaled)\n",
        "mse_scaled = mean_squared_error(y_test, y_pred_scaled)\n",
        "r2_scaled = r2_score(y_test, y_pred_scaled)\n",
        "\n",
        "print(f'Mean Squared Error: {mse}')\n",
        "print(f'R-squared Value: {r2}')\n",
        "print(f'Mean Squared scaled Error: {mse_scaled}')\n",
        "print(f'R-squared scaled Value: {r2_scaled}')\n",
        "\n"
      ],
      "metadata": {
        "colab": {
          "base_uri": "https://localhost:8080/"
        },
        "id": "Myvsqj33nlMv",
        "outputId": "a4a06861-2630-47ed-b63d-dc72a6ac7e89"
      },
      "execution_count": 128,
      "outputs": [
        {
          "output_type": "stream",
          "name": "stdout",
          "text": [
            "Mean Squared Error: 0.003704655398788405\n",
            "R-squared Value: 0.8188432567829631\n",
            "Mean Squared scaled Error: 0.003704655398788409\n",
            "R-squared scaled Value: 0.8188432567829629\n"
          ]
        }
      ]
    },
    {
      "cell_type": "code",
      "source": [
        "X_test_scaled[:10]"
      ],
      "metadata": {
        "colab": {
          "base_uri": "https://localhost:8080/"
        },
        "id": "nwK0yIFi5s87",
        "outputId": "f34dbba3-2976-40a4-a5d1-3d2a341f0c17"
      },
      "execution_count": 129,
      "outputs": [
        {
          "output_type": "execute_result",
          "data": {
            "text/plain": [
              "array([[0.88      , 0.85714286, 0.75      , 0.75      , 0.57142857,\n",
              "        0.87820513, 1.        ],\n",
              "       [0.48      , 0.57142857, 0.75      , 0.875     , 0.71428571,\n",
              "        0.71794872, 1.        ],\n",
              "       [0.5       , 0.46428571, 0.25      , 0.25      , 0.28571429,\n",
              "        0.2724359 , 0.        ],\n",
              "       [0.44      , 0.60714286, 0.5       , 0.5       , 0.42857143,\n",
              "        0.60576923, 0.        ],\n",
              "       [0.72      , 0.71428571, 0.5       , 0.625     , 0.42857143,\n",
              "        0.72115385, 1.        ],\n",
              "       [0.78      , 0.67857143, 0.75      , 0.875     , 0.71428571,\n",
              "        0.77884615, 1.        ],\n",
              "       [0.        , 0.28571429, 0.        , 0.125     , 0.14285714,\n",
              "        0.24358974, 0.        ],\n",
              "       [0.22      , 0.5       , 0.75      , 0.375     , 0.42857143,\n",
              "        0.53525641, 0.        ],\n",
              "       [0.56      , 0.60714286, 0.5       , 0.625     , 0.71428571,\n",
              "        0.77564103, 1.        ],\n",
              "       [0.6       , 0.71428571, 0.75      , 0.5       , 0.85714286,\n",
              "        0.66025641, 1.        ]])"
            ]
          },
          "metadata": {},
          "execution_count": 129
        }
      ]
    },
    {
      "cell_type": "code",
      "source": [],
      "metadata": {
        "id": "2cD-rCAHuv0K"
      },
      "execution_count": 129,
      "outputs": []
    },
    {
      "cell_type": "code",
      "source": [
        "# Scatter plot for GRE Scores vs. Chance of Admit\n",
        "plt.scatter(df['GRE Score'], df['Chance of Admit '])\n",
        "plt.xlabel('GRE Score')\n",
        "plt.ylabel('Chance of Admit ')\n",
        "plt.title('Scatter Plot: GRE Scores vs. Chance of Admit')\n",
        "plt.show()\n",
        "\n",
        "# Repeat for other predictor variables\n"
      ],
      "metadata": {
        "colab": {
          "base_uri": "https://localhost:8080/",
          "height": 472
        },
        "id": "oyHp5SSdpDAT",
        "outputId": "57e78cca-9235-49e8-dd7e-3cf5c4b055fa"
      },
      "execution_count": 130,
      "outputs": [
        {
          "output_type": "display_data",
          "data": {
            "text/plain": [
              "<Figure size 640x480 with 1 Axes>"
            ],
            "image/png": "[encoded data removed]"
          },
          "metadata": {}
        }
      ]
    },
    {
      "cell_type": "code",
      "source": [
        "from statsmodels.stats.outliers_influence import variance_inflation_factor\n",
        "import statsmodels.api as sm\n",
        "# Checking for Multicollinearity\n",
        "#correlation_matrix = df.drop('Chance of Admit ', axis=1).corr()\n",
        "#print(correlation_matrix)\n",
        "\n",
        "# Calculating VIF\n",
        "#X_with_intercept = sm.add_constant(X_train)\n",
        "vif_data = pd.DataFrame()\n",
        "vif_data[\"Variable\"] = X.columns\n",
        "vif_data[\"VIF\"] = [variance_inflation_factor(X.values, i) for i in range(len(X.columns))]\n",
        "print(vif_data)\n"
      ],
      "metadata": {
        "colab": {
          "base_uri": "https://localhost:8080/"
        },
        "id": "G0zKw-VFqYmT",
        "outputId": "81001919-7158-46d0-fe30-a8ccd1296aef"
      },
      "execution_count": 131,
      "outputs": [
        {
          "output_type": "stream",
          "name": "stdout",
          "text": [
            "            Variable          VIF\n",
            "0          GRE Score  1308.061089\n",
            "1        TOEFL Score  1215.951898\n",
            "2  University Rating    20.933361\n",
            "3                SOP    35.265006\n",
            "4               LOR     30.911476\n",
            "5               CGPA   950.817985\n",
            "6           Research     2.869493\n"
          ]
        }
      ]
    },
    {
      "cell_type": "code",
      "source": [
        "X.columns"
      ],
      "metadata": {
        "colab": {
          "base_uri": "https://localhost:8080/"
        },
        "id": "PPJUD0dSs927",
        "outputId": "d832c35a-d7e0-4420-a3c6-5cdae8c01a13"
      },
      "execution_count": 132,
      "outputs": [
        {
          "output_type": "execute_result",
          "data": {
            "text/plain": [
              "Index(['GRE Score', 'TOEFL Score', 'University Rating', 'SOP', 'LOR ', 'CGPA',\n",
              "       'Research'],\n",
              "      dtype='object')"
            ]
          },
          "metadata": {},
          "execution_count": 132
        }
      ]
    },
    {
      "cell_type": "code",
      "source": [
        "y_head,x_head = y_test[:10],X_test[:10]\n",
        "y_head.values\n"
      ],
      "metadata": {
        "colab": {
          "base_uri": "https://localhost:8080/"
        },
        "id": "y4ntylb3tXmt",
        "outputId": "38897f1a-b371-4735-a1c4-9f5b943df297"
      },
      "execution_count": 133,
      "outputs": [
        {
          "output_type": "execute_result",
          "data": {
            "text/plain": [
              "array([0.93, 0.84, 0.39, 0.77, 0.74, 0.89, 0.47, 0.57, 0.68, 0.82])"
            ]
          },
          "metadata": {},
          "execution_count": 133
        }
      ]
    },
    {
      "cell_type": "code",
      "source": [
        "y_pred_head = model.predict(x_head)\n",
        "np.round(y_pred_head,2)"
      ],
      "metadata": {
        "colab": {
          "base_uri": "https://localhost:8080/"
        },
        "id": "HWfUDIK90WD3",
        "outputId": "d53fdb26-d1b2-42b7-e7ed-473f67d66bd3"
      },
      "execution_count": 134,
      "outputs": [
        {
          "output_type": "execute_result",
          "data": {
            "text/plain": [
              "array([0.91, 0.8 , 0.57, 0.71, 0.82, 0.86, 0.47, 0.65, 0.82, 0.81])"
            ]
          },
          "metadata": {},
          "execution_count": 134
        }
      ]
    },
    {
      "cell_type": "code",
      "source": [
        "y_pred_scaled_head = model_scaled.predict(x_head)\n",
        "np.round(y_pred_head,2)"
      ],
      "metadata": {
        "colab": {
          "base_uri": "https://localhost:8080/"
        },
        "id": "fmcEQcpw16TT",
        "outputId": "c4c21478-e7ec-44c8-b6db-b30a3650e010"
      },
      "execution_count": 135,
      "outputs": [
        {
          "output_type": "stream",
          "name": "stderr",
          "text": [
            "/usr/local/lib/python3.10/dist-packages/sklearn/base.py:432: UserWarning: X has feature names, but LinearRegression was fitted without feature names\n",
            "  warnings.warn(\n"
          ]
        },
        {
          "output_type": "execute_result",
          "data": {
            "text/plain": [
              "array([0.91, 0.8 , 0.57, 0.71, 0.82, 0.86, 0.47, 0.65, 0.82, 0.81])"
            ]
          },
          "metadata": {},
          "execution_count": 135
        }
      ]
    }
  ]
}