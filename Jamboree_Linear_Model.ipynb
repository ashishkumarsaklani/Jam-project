{
  "nbformat": 4,
  "nbformat_minor": 0,
  "metadata": {
    "colab": {
      "provenance": [],
      "authorship_tag": "ABX9TyOwzfO16GNDSfFITJ8kgDDH",
      "include_colab_link": true
    },
    "kernelspec": {
      "name": "python3",
      "display_name": "Python 3"
    },
    "language_info": {
      "name": "python"
    }
  },
  "cells": [
    {
      "cell_type": "markdown",
      "metadata": {
        "id": "view-in-github",
        "colab_type": "text"
      },
      "source": [
        "<a href=\"https://colab.research.google.com/github/ashishkumarsaklani/Jam-project/blob/main/Jamboree_Linear_Model.ipynb\" target=\"_parent\"><img src=\"https://colab.research.google.com/assets/colab-badge.svg\" alt=\"Open In Colab\"/></a>"
      ]
    },
    {
      "cell_type": "code",
      "execution_count": 1,
      "metadata": {
        "id": "lVdCjcZIAt7M"
      },
      "outputs": [],
      "source": [
        "import pandas as pd\n",
        "import numpy as np\n",
        "import matplotlib.pyplot as plt\n",
        "import seaborn as sns\n",
        "from sklearn.linear_model import LinearRegression\n",
        "from sklearn.model_selection import train_test_split\n",
        "from sklearn.metrics import mean_squared_error, r2_score"
      ]
    },
    {
      "cell_type": "code",
      "source": [
        "url ='https://d2beiqkhq929f0.cloudfront.net/public_assets/assets/000/001/839/original/Jamboree_Admission.csv'\n",
        "\n",
        "df = pd.read_csv(url)\n",
        "\n",
        "#checking data\n",
        "df.head().style.set_properties(**{'background':'black','border': '1.5px solid blue','color': 'red'})"
      ],
      "metadata": {
        "colab": {
          "base_uri": "https://localhost:8080/",
          "height": 211
        },
        "id": "6tYpkPzrBBfZ",
        "outputId": "3814347f-73f2-48d5-afbe-13037bb1f160"
      },
      "execution_count": 5,
      "outputs": [
        {
          "output_type": "execute_result",
          "data": {
            "text/plain": [
              "<pandas.io.formats.style.Styler at 0x7ca139d78d60>"
            ],
            "text/html": [
              "<style type=\"text/css\">\n",
              "#T_d0154_row0_col0, #T_d0154_row0_col1, #T_d0154_row0_col2, #T_d0154_row0_col3, #T_d0154_row0_col4, #T_d0154_row0_col5, #T_d0154_row0_col6, #T_d0154_row0_col7, #T_d0154_row0_col8, #T_d0154_row1_col0, #T_d0154_row1_col1, #T_d0154_row1_col2, #T_d0154_row1_col3, #T_d0154_row1_col4, #T_d0154_row1_col5, #T_d0154_row1_col6, #T_d0154_row1_col7, #T_d0154_row1_col8, #T_d0154_row2_col0, #T_d0154_row2_col1, #T_d0154_row2_col2, #T_d0154_row2_col3, #T_d0154_row2_col4, #T_d0154_row2_col5, #T_d0154_row2_col6, #T_d0154_row2_col7, #T_d0154_row2_col8, #T_d0154_row3_col0, #T_d0154_row3_col1, #T_d0154_row3_col2, #T_d0154_row3_col3, #T_d0154_row3_col4, #T_d0154_row3_col5, #T_d0154_row3_col6, #T_d0154_row3_col7, #T_d0154_row3_col8, #T_d0154_row4_col0, #T_d0154_row4_col1, #T_d0154_row4_col2, #T_d0154_row4_col3, #T_d0154_row4_col4, #T_d0154_row4_col5, #T_d0154_row4_col6, #T_d0154_row4_col7, #T_d0154_row4_col8 {\n",
              "  background: black;\n",
              "  border: 1.5px solid blue;\n",
              "  color: red;\n",
              "}\n",
              "</style>\n",
              "<table id=\"T_d0154\" class=\"dataframe\">\n",
              "  <thead>\n",
              "    <tr>\n",
              "      <th class=\"blank level0\" >&nbsp;</th>\n",
              "      <th id=\"T_d0154_level0_col0\" class=\"col_heading level0 col0\" >Serial No.</th>\n",
              "      <th id=\"T_d0154_level0_col1\" class=\"col_heading level0 col1\" >GRE Score</th>\n",
              "      <th id=\"T_d0154_level0_col2\" class=\"col_heading level0 col2\" >TOEFL Score</th>\n",
              "      <th id=\"T_d0154_level0_col3\" class=\"col_heading level0 col3\" >University Rating</th>\n",
              "      <th id=\"T_d0154_level0_col4\" class=\"col_heading level0 col4\" >SOP</th>\n",
              "      <th id=\"T_d0154_level0_col5\" class=\"col_heading level0 col5\" >LOR </th>\n",
              "      <th id=\"T_d0154_level0_col6\" class=\"col_heading level0 col6\" >CGPA</th>\n",
              "      <th id=\"T_d0154_level0_col7\" class=\"col_heading level0 col7\" >Research</th>\n",
              "      <th id=\"T_d0154_level0_col8\" class=\"col_heading level0 col8\" >Chance of Admit </th>\n",
              "    </tr>\n",
              "  </thead>\n",
              "  <tbody>\n",
              "    <tr>\n",
              "      <th id=\"T_d0154_level0_row0\" class=\"row_heading level0 row0\" >0</th>\n",
              "      <td id=\"T_d0154_row0_col0\" class=\"data row0 col0\" >1</td>\n",
              "      <td id=\"T_d0154_row0_col1\" class=\"data row0 col1\" >337</td>\n",
              "      <td id=\"T_d0154_row0_col2\" class=\"data row0 col2\" >118</td>\n",
              "      <td id=\"T_d0154_row0_col3\" class=\"data row0 col3\" >4</td>\n",
              "      <td id=\"T_d0154_row0_col4\" class=\"data row0 col4\" >4.500000</td>\n",
              "      <td id=\"T_d0154_row0_col5\" class=\"data row0 col5\" >4.500000</td>\n",
              "      <td id=\"T_d0154_row0_col6\" class=\"data row0 col6\" >9.650000</td>\n",
              "      <td id=\"T_d0154_row0_col7\" class=\"data row0 col7\" >1</td>\n",
              "      <td id=\"T_d0154_row0_col8\" class=\"data row0 col8\" >0.920000</td>\n",
              "    </tr>\n",
              "    <tr>\n",
              "      <th id=\"T_d0154_level0_row1\" class=\"row_heading level0 row1\" >1</th>\n",
              "      <td id=\"T_d0154_row1_col0\" class=\"data row1 col0\" >2</td>\n",
              "      <td id=\"T_d0154_row1_col1\" class=\"data row1 col1\" >324</td>\n",
              "      <td id=\"T_d0154_row1_col2\" class=\"data row1 col2\" >107</td>\n",
              "      <td id=\"T_d0154_row1_col3\" class=\"data row1 col3\" >4</td>\n",
              "      <td id=\"T_d0154_row1_col4\" class=\"data row1 col4\" >4.000000</td>\n",
              "      <td id=\"T_d0154_row1_col5\" class=\"data row1 col5\" >4.500000</td>\n",
              "      <td id=\"T_d0154_row1_col6\" class=\"data row1 col6\" >8.870000</td>\n",
              "      <td id=\"T_d0154_row1_col7\" class=\"data row1 col7\" >1</td>\n",
              "      <td id=\"T_d0154_row1_col8\" class=\"data row1 col8\" >0.760000</td>\n",
              "    </tr>\n",
              "    <tr>\n",
              "      <th id=\"T_d0154_level0_row2\" class=\"row_heading level0 row2\" >2</th>\n",
              "      <td id=\"T_d0154_row2_col0\" class=\"data row2 col0\" >3</td>\n",
              "      <td id=\"T_d0154_row2_col1\" class=\"data row2 col1\" >316</td>\n",
              "      <td id=\"T_d0154_row2_col2\" class=\"data row2 col2\" >104</td>\n",
              "      <td id=\"T_d0154_row2_col3\" class=\"data row2 col3\" >3</td>\n",
              "      <td id=\"T_d0154_row2_col4\" class=\"data row2 col4\" >3.000000</td>\n",
              "      <td id=\"T_d0154_row2_col5\" class=\"data row2 col5\" >3.500000</td>\n",
              "      <td id=\"T_d0154_row2_col6\" class=\"data row2 col6\" >8.000000</td>\n",
              "      <td id=\"T_d0154_row2_col7\" class=\"data row2 col7\" >1</td>\n",
              "      <td id=\"T_d0154_row2_col8\" class=\"data row2 col8\" >0.720000</td>\n",
              "    </tr>\n",
              "    <tr>\n",
              "      <th id=\"T_d0154_level0_row3\" class=\"row_heading level0 row3\" >3</th>\n",
              "      <td id=\"T_d0154_row3_col0\" class=\"data row3 col0\" >4</td>\n",
              "      <td id=\"T_d0154_row3_col1\" class=\"data row3 col1\" >322</td>\n",
              "      <td id=\"T_d0154_row3_col2\" class=\"data row3 col2\" >110</td>\n",
              "      <td id=\"T_d0154_row3_col3\" class=\"data row3 col3\" >3</td>\n",
              "      <td id=\"T_d0154_row3_col4\" class=\"data row3 col4\" >3.500000</td>\n",
              "      <td id=\"T_d0154_row3_col5\" class=\"data row3 col5\" >2.500000</td>\n",
              "      <td id=\"T_d0154_row3_col6\" class=\"data row3 col6\" >8.670000</td>\n",
              "      <td id=\"T_d0154_row3_col7\" class=\"data row3 col7\" >1</td>\n",
              "      <td id=\"T_d0154_row3_col8\" class=\"data row3 col8\" >0.800000</td>\n",
              "    </tr>\n",
              "    <tr>\n",
              "      <th id=\"T_d0154_level0_row4\" class=\"row_heading level0 row4\" >4</th>\n",
              "      <td id=\"T_d0154_row4_col0\" class=\"data row4 col0\" >5</td>\n",
              "      <td id=\"T_d0154_row4_col1\" class=\"data row4 col1\" >314</td>\n",
              "      <td id=\"T_d0154_row4_col2\" class=\"data row4 col2\" >103</td>\n",
              "      <td id=\"T_d0154_row4_col3\" class=\"data row4 col3\" >2</td>\n",
              "      <td id=\"T_d0154_row4_col4\" class=\"data row4 col4\" >2.000000</td>\n",
              "      <td id=\"T_d0154_row4_col5\" class=\"data row4 col5\" >3.000000</td>\n",
              "      <td id=\"T_d0154_row4_col6\" class=\"data row4 col6\" >8.210000</td>\n",
              "      <td id=\"T_d0154_row4_col7\" class=\"data row4 col7\" >0</td>\n",
              "      <td id=\"T_d0154_row4_col8\" class=\"data row4 col8\" >0.650000</td>\n",
              "    </tr>\n",
              "  </tbody>\n",
              "</table>\n"
            ]
          },
          "metadata": {},
          "execution_count": 5
        }
      ]
    },
    {
      "cell_type": "code",
      "source": [
        "#setting X and y\n",
        "\n",
        "X = df.drop('Chance of Admit ', axis=1)\n",
        "y = df['Chance of Admit ']\n",
        "\n"
      ],
      "metadata": {
        "id": "nkUC8ZPsBF-_"
      },
      "execution_count": 13,
      "outputs": []
    },
    {
      "cell_type": "code",
      "source": [
        "#spliting train and test\n",
        "\n",
        "X_train, X_test, y_train, y_test = train_test_split(X, y, test_size=0.2, random_state=42)\n"
      ],
      "metadata": {
        "id": "6cFTRl7tB_wI"
      },
      "execution_count": 14,
      "outputs": []
    },
    {
      "cell_type": "code",
      "source": [
        "\n",
        "# Initialize the model\n",
        "model = LinearRegression()\n",
        "\n",
        "# Fit the model on the training data\n",
        "model.fit(X_train, y_train)\n"
      ],
      "metadata": {
        "colab": {
          "base_uri": "https://localhost:8080/",
          "height": 75
        },
        "id": "qashkL-zCDvp",
        "outputId": "3f803bc9-ff21-4f41-ec80-4de65efd3f9f"
      },
      "execution_count": 15,
      "outputs": [
        {
          "output_type": "execute_result",
          "data": {
            "text/plain": [
              "LinearRegression()"
            ],
            "text/html": [
              "<style>#sk-container-id-1 {color: black;background-color: white;}#sk-container-id-1 pre{padding: 0;}#sk-container-id-1 div.sk-toggleable {background-color: white;}#sk-container-id-1 label.sk-toggleable__label {cursor: pointer;display: block;width: 100%;margin-bottom: 0;padding: 0.3em;box-sizing: border-box;text-align: center;}#sk-container-id-1 label.sk-toggleable__label-arrow:before {content: \"▸\";float: left;margin-right: 0.25em;color: #696969;}#sk-container-id-1 label.sk-toggleable__label-arrow:hover:before {color: black;}#sk-container-id-1 div.sk-estimator:hover label.sk-toggleable__label-arrow:before {color: black;}#sk-container-id-1 div.sk-toggleable__content {max-height: 0;max-width: 0;overflow: hidden;text-align: left;background-color: #f0f8ff;}#sk-container-id-1 div.sk-toggleable__content pre {margin: 0.2em;color: black;border-radius: 0.25em;background-color: #f0f8ff;}#sk-container-id-1 input.sk-toggleable__control:checked~div.sk-toggleable__content {max-height: 200px;max-width: 100%;overflow: auto;}#sk-container-id-1 input.sk-toggleable__control:checked~label.sk-toggleable__label-arrow:before {content: \"▾\";}#sk-container-id-1 div.sk-estimator input.sk-toggleable__control:checked~label.sk-toggleable__label {background-color: #d4ebff;}#sk-container-id-1 div.sk-label input.sk-toggleable__control:checked~label.sk-toggleable__label {background-color: #d4ebff;}#sk-container-id-1 input.sk-hidden--visually {border: 0;clip: rect(1px 1px 1px 1px);clip: rect(1px, 1px, 1px, 1px);height: 1px;margin: -1px;overflow: hidden;padding: 0;position: absolute;width: 1px;}#sk-container-id-1 div.sk-estimator {font-family: monospace;background-color: #f0f8ff;border: 1px dotted black;border-radius: 0.25em;box-sizing: border-box;margin-bottom: 0.5em;}#sk-container-id-1 div.sk-estimator:hover {background-color: #d4ebff;}#sk-container-id-1 div.sk-parallel-item::after {content: \"\";width: 100%;border-bottom: 1px solid gray;flex-grow: 1;}#sk-container-id-1 div.sk-label:hover label.sk-toggleable__label {background-color: #d4ebff;}#sk-container-id-1 div.sk-serial::before {content: \"\";position: absolute;border-left: 1px solid gray;box-sizing: border-box;top: 0;bottom: 0;left: 50%;z-index: 0;}#sk-container-id-1 div.sk-serial {display: flex;flex-direction: column;align-items: center;background-color: white;padding-right: 0.2em;padding-left: 0.2em;position: relative;}#sk-container-id-1 div.sk-item {position: relative;z-index: 1;}#sk-container-id-1 div.sk-parallel {display: flex;align-items: stretch;justify-content: center;background-color: white;position: relative;}#sk-container-id-1 div.sk-item::before, #sk-container-id-1 div.sk-parallel-item::before {content: \"\";position: absolute;border-left: 1px solid gray;box-sizing: border-box;top: 0;bottom: 0;left: 50%;z-index: -1;}#sk-container-id-1 div.sk-parallel-item {display: flex;flex-direction: column;z-index: 1;position: relative;background-color: white;}#sk-container-id-1 div.sk-parallel-item:first-child::after {align-self: flex-end;width: 50%;}#sk-container-id-1 div.sk-parallel-item:last-child::after {align-self: flex-start;width: 50%;}#sk-container-id-1 div.sk-parallel-item:only-child::after {width: 0;}#sk-container-id-1 div.sk-dashed-wrapped {border: 1px dashed gray;margin: 0 0.4em 0.5em 0.4em;box-sizing: border-box;padding-bottom: 0.4em;background-color: white;}#sk-container-id-1 div.sk-label label {font-family: monospace;font-weight: bold;display: inline-block;line-height: 1.2em;}#sk-container-id-1 div.sk-label-container {text-align: center;}#sk-container-id-1 div.sk-container {/* jupyter's `normalize.less` sets `[hidden] { display: none; }` but bootstrap.min.css set `[hidden] { display: none !important; }` so we also need the `!important` here to be able to override the default hidden behavior on the sphinx rendered scikit-learn.org. See: https://github.com/scikit-learn/scikit-learn/issues/21755 */display: inline-block !important;position: relative;}#sk-container-id-1 div.sk-text-repr-fallback {display: none;}</style><div id=\"sk-container-id-1\" class=\"sk-top-container\"><div class=\"sk-text-repr-fallback\"><pre>LinearRegression()</pre><b>In a Jupyter environment, please rerun this cell to show the HTML representation or trust the notebook. <br />On GitHub, the HTML representation is unable to render, please try loading this page with nbviewer.org.</b></div><div class=\"sk-container\" hidden><div class=\"sk-item\"><div class=\"sk-estimator sk-toggleable\"><input class=\"sk-toggleable__control sk-hidden--visually\" id=\"sk-estimator-id-1\" type=\"checkbox\" checked><label for=\"sk-estimator-id-1\" class=\"sk-toggleable__label sk-toggleable__label-arrow\">LinearRegression</label><div class=\"sk-toggleable__content\"><pre>LinearRegression()</pre></div></div></div></div></div>"
            ]
          },
          "metadata": {},
          "execution_count": 15
        }
      ]
    },
    {
      "cell_type": "code",
      "source": [
        "# Make predictions\n",
        "y_pred = model.predict(X_test)\n",
        "\n",
        "# Evaluate the model\n",
        "mse = mean_squared_error(y_test, y_pred)\n",
        "r2 = r2_score(y_test, y_pred)\n",
        "\n",
        "print(f'Mean Squared Error: {mse}')\n",
        "print(f'R-squared Value: {r2}')\n"
      ],
      "metadata": {
        "colab": {
          "base_uri": "https://localhost:8080/"
        },
        "id": "gUyXqeU4CKWB",
        "outputId": "fef2abe2-af19-4657-cdc2-2211824ef015"
      },
      "execution_count": 16,
      "outputs": [
        {
          "output_type": "stream",
          "name": "stdout",
          "text": [
            "Mean Squared Error: 0.003551180545098713\n",
            "R-squared Value: 0.8263481396039749\n"
          ]
        }
      ]
    },
    {
      "cell_type": "code",
      "source": [
        "coefficients = pd.DataFrame({'Feature': X.columns, 'Coefficient': model.coef_})\n",
        "print(coefficients)\n"
      ],
      "metadata": {
        "colab": {
          "base_uri": "https://localhost:8080/"
        },
        "id": "4Xu1qN52CN5p",
        "outputId": "ddacc545-5c9e-4058-91f0-debee1fe9a95"
      },
      "execution_count": 17,
      "outputs": [
        {
          "output_type": "stream",
          "name": "stdout",
          "text": [
            "             Feature  Coefficient\n",
            "0         Serial No.     0.000089\n",
            "1          GRE Score     0.002481\n",
            "2        TOEFL Score     0.003435\n",
            "3  University Rating     0.002633\n",
            "4                SOP     0.004231\n",
            "5               LOR      0.014953\n",
            "6               CGPA     0.109066\n",
            "7           Research     0.022290\n"
          ]
        }
      ]
    },
    {
      "cell_type": "code",
      "source": [
        "plt.scatter(y_test, y_pred)\n",
        "plt.xlabel('Actual Values')\n",
        "plt.ylabel('Predicted Values')\n",
        "plt.title('Actual vs. Predicted Values')\n",
        "plt.show()\n"
      ],
      "metadata": {
        "colab": {
          "base_uri": "https://localhost:8080/",
          "height": 472
        },
        "id": "grd3I-W5CQ3Z",
        "outputId": "8300bc50-47a1-4537-af5d-944aa6fa7aef"
      },
      "execution_count": 18,
      "outputs": [
        {
          "output_type": "display_data",
          "data": {
            "text/plain": [
              "<Figure size 640x480 with 1 Axes>"
            ],
            "image/png": "[encoded data removed]"
          },
          "metadata": {}
        }
      ]
    }
  ]
}