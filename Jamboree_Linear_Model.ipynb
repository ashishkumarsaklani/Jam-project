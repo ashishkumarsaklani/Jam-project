{
  "nbformat": 4,
  "nbformat_minor": 0,
  "metadata": {
    "colab": {
      "provenance": [],
      "authorship_tag": "ABX9TyOGBtmWK+A04LnEROGAWHQ6",
      "include_colab_link": true
    },
    "kernelspec": {
      "name": "python3",
      "display_name": "Python 3"
    },
    "language_info": {
      "name": "python"
    }
  },
  "cells": [
    {
      "cell_type": "markdown",
      "metadata": {
        "id": "view-in-github",
        "colab_type": "text"
      },
      "source": [
        "<a href=\"https://colab.research.google.com/github/ashishkumarsaklani/Jam-project/blob/main/Jamboree_Linear_Model.ipynb\" target=\"_parent\"><img src=\"https://colab.research.google.com/assets/colab-badge.svg\" alt=\"Open In Colab\"/></a>"
      ]
    },
    {
      "cell_type": "code",
      "execution_count": null,
      "metadata": {
        "id": "lVdCjcZIAt7M"
      },
      "outputs": [],
      "source": [
        "import pandas as pd\n",
        "import numpy as np\n",
        "import matplotlib.pyplot as plt\n",
        "import seaborn as sns\n",
        "from sklearn import linear_model\n",
        "from sklearn.linear_model import LinearRegression\n",
        "from sklearn.model_selection import train_test_split\n",
        "from sklearn.metrics import mean_squared_error, r2_score\n",
        "from sklearn.preprocessing import MinMaxScaler,PolynomialFeatures"
      ]
    },
    {
      "cell_type": "code",
      "source": [
        "url ='https://d2beiqkhq929f0.cloudfront.net/public_assets/assets/000/001/839/original/Jamboree_Admission.csv'\n",
        "\n",
        "df = pd.read_csv(url)\n",
        "df = df.drop('Serial No.', axis=1)\n",
        "#checking data\n",
        "df.head().style.set_properties(**{'background':'black','border': '1.5px solid blue','color': 'red'})"
      ],
      "metadata": {
        "colab": {
          "base_uri": "https://localhost:8080/",
          "height": 210
        },
        "id": "-VY0N-k2pNRV",
        "outputId": "c064e2cb-5436-403c-f288-bafa118fbad1"
      },
      "execution_count": null,
      "outputs": [
        {
          "output_type": "execute_result",
          "data": {
            "text/plain": [
              "<pandas.io.formats.style.Styler at 0x7a0a0b75c610>"
            ],
            "text/html": [
              "<style type=\"text/css\">\n",
              "#T_74d12_row0_col0, #T_74d12_row0_col1, #T_74d12_row0_col2, #T_74d12_row0_col3, #T_74d12_row0_col4, #T_74d12_row0_col5, #T_74d12_row0_col6, #T_74d12_row0_col7, #T_74d12_row1_col0, #T_74d12_row1_col1, #T_74d12_row1_col2, #T_74d12_row1_col3, #T_74d12_row1_col4, #T_74d12_row1_col5, #T_74d12_row1_col6, #T_74d12_row1_col7, #T_74d12_row2_col0, #T_74d12_row2_col1, #T_74d12_row2_col2, #T_74d12_row2_col3, #T_74d12_row2_col4, #T_74d12_row2_col5, #T_74d12_row2_col6, #T_74d12_row2_col7, #T_74d12_row3_col0, #T_74d12_row3_col1, #T_74d12_row3_col2, #T_74d12_row3_col3, #T_74d12_row3_col4, #T_74d12_row3_col5, #T_74d12_row3_col6, #T_74d12_row3_col7, #T_74d12_row4_col0, #T_74d12_row4_col1, #T_74d12_row4_col2, #T_74d12_row4_col3, #T_74d12_row4_col4, #T_74d12_row4_col5, #T_74d12_row4_col6, #T_74d12_row4_col7 {\n",
              "  background: black;\n",
              "  border: 1.5px solid blue;\n",
              "  color: red;\n",
              "}\n",
              "</style>\n",
              "<table id=\"T_74d12\" class=\"dataframe\">\n",
              "  <thead>\n",
              "    <tr>\n",
              "      <th class=\"blank level0\" >&nbsp;</th>\n",
              "      <th id=\"T_74d12_level0_col0\" class=\"col_heading level0 col0\" >GRE Score</th>\n",
              "      <th id=\"T_74d12_level0_col1\" class=\"col_heading level0 col1\" >TOEFL Score</th>\n",
              "      <th id=\"T_74d12_level0_col2\" class=\"col_heading level0 col2\" >University Rating</th>\n",
              "      <th id=\"T_74d12_level0_col3\" class=\"col_heading level0 col3\" >SOP</th>\n",
              "      <th id=\"T_74d12_level0_col4\" class=\"col_heading level0 col4\" >LOR </th>\n",
              "      <th id=\"T_74d12_level0_col5\" class=\"col_heading level0 col5\" >CGPA</th>\n",
              "      <th id=\"T_74d12_level0_col6\" class=\"col_heading level0 col6\" >Research</th>\n",
              "      <th id=\"T_74d12_level0_col7\" class=\"col_heading level0 col7\" >Chance of Admit </th>\n",
              "    </tr>\n",
              "  </thead>\n",
              "  <tbody>\n",
              "    <tr>\n",
              "      <th id=\"T_74d12_level0_row0\" class=\"row_heading level0 row0\" >0</th>\n",
              "      <td id=\"T_74d12_row0_col0\" class=\"data row0 col0\" >337</td>\n",
              "      <td id=\"T_74d12_row0_col1\" class=\"data row0 col1\" >118</td>\n",
              "      <td id=\"T_74d12_row0_col2\" class=\"data row0 col2\" >4</td>\n",
              "      <td id=\"T_74d12_row0_col3\" class=\"data row0 col3\" >4.500000</td>\n",
              "      <td id=\"T_74d12_row0_col4\" class=\"data row0 col4\" >4.500000</td>\n",
              "      <td id=\"T_74d12_row0_col5\" class=\"data row0 col5\" >9.650000</td>\n",
              "      <td id=\"T_74d12_row0_col6\" class=\"data row0 col6\" >1</td>\n",
              "      <td id=\"T_74d12_row0_col7\" class=\"data row0 col7\" >0.920000</td>\n",
              "    </tr>\n",
              "    <tr>\n",
              "      <th id=\"T_74d12_level0_row1\" class=\"row_heading level0 row1\" >1</th>\n",
              "      <td id=\"T_74d12_row1_col0\" class=\"data row1 col0\" >324</td>\n",
              "      <td id=\"T_74d12_row1_col1\" class=\"data row1 col1\" >107</td>\n",
              "      <td id=\"T_74d12_row1_col2\" class=\"data row1 col2\" >4</td>\n",
              "      <td id=\"T_74d12_row1_col3\" class=\"data row1 col3\" >4.000000</td>\n",
              "      <td id=\"T_74d12_row1_col4\" class=\"data row1 col4\" >4.500000</td>\n",
              "      <td id=\"T_74d12_row1_col5\" class=\"data row1 col5\" >8.870000</td>\n",
              "      <td id=\"T_74d12_row1_col6\" class=\"data row1 col6\" >1</td>\n",
              "      <td id=\"T_74d12_row1_col7\" class=\"data row1 col7\" >0.760000</td>\n",
              "    </tr>\n",
              "    <tr>\n",
              "      <th id=\"T_74d12_level0_row2\" class=\"row_heading level0 row2\" >2</th>\n",
              "      <td id=\"T_74d12_row2_col0\" class=\"data row2 col0\" >316</td>\n",
              "      <td id=\"T_74d12_row2_col1\" class=\"data row2 col1\" >104</td>\n",
              "      <td id=\"T_74d12_row2_col2\" class=\"data row2 col2\" >3</td>\n",
              "      <td id=\"T_74d12_row2_col3\" class=\"data row2 col3\" >3.000000</td>\n",
              "      <td id=\"T_74d12_row2_col4\" class=\"data row2 col4\" >3.500000</td>\n",
              "      <td id=\"T_74d12_row2_col5\" class=\"data row2 col5\" >8.000000</td>\n",
              "      <td id=\"T_74d12_row2_col6\" class=\"data row2 col6\" >1</td>\n",
              "      <td id=\"T_74d12_row2_col7\" class=\"data row2 col7\" >0.720000</td>\n",
              "    </tr>\n",
              "    <tr>\n",
              "      <th id=\"T_74d12_level0_row3\" class=\"row_heading level0 row3\" >3</th>\n",
              "      <td id=\"T_74d12_row3_col0\" class=\"data row3 col0\" >322</td>\n",
              "      <td id=\"T_74d12_row3_col1\" class=\"data row3 col1\" >110</td>\n",
              "      <td id=\"T_74d12_row3_col2\" class=\"data row3 col2\" >3</td>\n",
              "      <td id=\"T_74d12_row3_col3\" class=\"data row3 col3\" >3.500000</td>\n",
              "      <td id=\"T_74d12_row3_col4\" class=\"data row3 col4\" >2.500000</td>\n",
              "      <td id=\"T_74d12_row3_col5\" class=\"data row3 col5\" >8.670000</td>\n",
              "      <td id=\"T_74d12_row3_col6\" class=\"data row3 col6\" >1</td>\n",
              "      <td id=\"T_74d12_row3_col7\" class=\"data row3 col7\" >0.800000</td>\n",
              "    </tr>\n",
              "    <tr>\n",
              "      <th id=\"T_74d12_level0_row4\" class=\"row_heading level0 row4\" >4</th>\n",
              "      <td id=\"T_74d12_row4_col0\" class=\"data row4 col0\" >314</td>\n",
              "      <td id=\"T_74d12_row4_col1\" class=\"data row4 col1\" >103</td>\n",
              "      <td id=\"T_74d12_row4_col2\" class=\"data row4 col2\" >2</td>\n",
              "      <td id=\"T_74d12_row4_col3\" class=\"data row4 col3\" >2.000000</td>\n",
              "      <td id=\"T_74d12_row4_col4\" class=\"data row4 col4\" >3.000000</td>\n",
              "      <td id=\"T_74d12_row4_col5\" class=\"data row4 col5\" >8.210000</td>\n",
              "      <td id=\"T_74d12_row4_col6\" class=\"data row4 col6\" >0</td>\n",
              "      <td id=\"T_74d12_row4_col7\" class=\"data row4 col7\" >0.650000</td>\n",
              "    </tr>\n",
              "  </tbody>\n",
              "</table>\n"
            ]
          },
          "metadata": {},
          "execution_count": 37
        }
      ]
    },
    {
      "cell_type": "markdown",
      "source": [
        "#Select Features to Drop for testing"
      ],
      "metadata": {
        "id": "6w8wa5_zs-9e"
      }
    },
    {
      "cell_type": "code",
      "source": [
        "df = df.drop('GRE Score', axis=1 )"
      ],
      "metadata": {
        "id": "U9uRg_ELsiLp"
      },
      "execution_count": null,
      "outputs": []
    },
    {
      "cell_type": "code",
      "source": [
        "df = df.drop('TOEFL Score', axis=1 )"
      ],
      "metadata": {
        "id": "R8hRGCbssmD1"
      },
      "execution_count": null,
      "outputs": []
    },
    {
      "cell_type": "code",
      "source": [
        "df = df.drop('University Rating', axis=1)"
      ],
      "metadata": {
        "id": "xfkp8A4GsoF9"
      },
      "execution_count": null,
      "outputs": []
    },
    {
      "cell_type": "code",
      "source": [
        "df = df.drop('SOP', axis=1 )"
      ],
      "metadata": {
        "id": "ssI6NzaXsqIG"
      },
      "execution_count": null,
      "outputs": []
    },
    {
      "cell_type": "code",
      "source": [
        "df = df.drop('LOR ', axis=1 )"
      ],
      "metadata": {
        "id": "JDl2uPQCruXg"
      },
      "execution_count": null,
      "outputs": []
    },
    {
      "cell_type": "code",
      "source": [
        "df = df.drop('Research', axis=1 )"
      ],
      "metadata": {
        "id": "6tYpkPzrBBfZ"
      },
      "execution_count": null,
      "outputs": []
    },
    {
      "cell_type": "code",
      "source": [
        "df = df.drop('CGPA', axis=1 )"
      ],
      "metadata": {
        "id": "n0yf8xMas2Wt"
      },
      "execution_count": null,
      "outputs": []
    },
    {
      "cell_type": "markdown",
      "source": [
        "#Setting X and y"
      ],
      "metadata": {
        "id": "A2j46vihtE0e"
      }
    },
    {
      "cell_type": "code",
      "source": [
        "#setting X and y\n",
        "\n",
        "X = df.drop('Chance of Admit ', axis=1)\n",
        "y = df['Chance of Admit ']"
      ],
      "metadata": {
        "id": "nkUC8ZPsBF-_"
      },
      "execution_count": null,
      "outputs": []
    },
    {
      "cell_type": "code",
      "source": [
        "#checking data\n",
        "df.head().style.set_properties(**{'background':'black','border': '1.5px solid blue','color': 'red'})"
      ],
      "metadata": {
        "colab": {
          "base_uri": "https://localhost:8080/",
          "height": 210
        },
        "id": "9gS7TYbPr0a-",
        "outputId": "3a9159d9-2b64-40e6-c718-55c07e34f5d2"
      },
      "execution_count": null,
      "outputs": [
        {
          "output_type": "execute_result",
          "data": {
            "text/plain": [
              "<pandas.io.formats.style.Styler at 0x7a0a1110fe20>"
            ],
            "text/html": [
              "<style type=\"text/css\">\n",
              "#T_29817_row0_col0, #T_29817_row0_col1, #T_29817_row0_col2, #T_29817_row0_col3, #T_29817_row0_col4, #T_29817_row0_col5, #T_29817_row0_col6, #T_29817_row0_col7, #T_29817_row0_col8, #T_29817_row1_col0, #T_29817_row1_col1, #T_29817_row1_col2, #T_29817_row1_col3, #T_29817_row1_col4, #T_29817_row1_col5, #T_29817_row1_col6, #T_29817_row1_col7, #T_29817_row1_col8, #T_29817_row2_col0, #T_29817_row2_col1, #T_29817_row2_col2, #T_29817_row2_col3, #T_29817_row2_col4, #T_29817_row2_col5, #T_29817_row2_col6, #T_29817_row2_col7, #T_29817_row2_col8, #T_29817_row3_col0, #T_29817_row3_col1, #T_29817_row3_col2, #T_29817_row3_col3, #T_29817_row3_col4, #T_29817_row3_col5, #T_29817_row3_col6, #T_29817_row3_col7, #T_29817_row3_col8, #T_29817_row4_col0, #T_29817_row4_col1, #T_29817_row4_col2, #T_29817_row4_col3, #T_29817_row4_col4, #T_29817_row4_col5, #T_29817_row4_col6, #T_29817_row4_col7, #T_29817_row4_col8 {\n",
              "  background: black;\n",
              "  border: 1.5px solid blue;\n",
              "  color: red;\n",
              "}\n",
              "</style>\n",
              "<table id=\"T_29817\" class=\"dataframe\">\n",
              "  <thead>\n",
              "    <tr>\n",
              "      <th class=\"blank level0\" >&nbsp;</th>\n",
              "      <th id=\"T_29817_level0_col0\" class=\"col_heading level0 col0\" >Serial No.</th>\n",
              "      <th id=\"T_29817_level0_col1\" class=\"col_heading level0 col1\" >GRE Score</th>\n",
              "      <th id=\"T_29817_level0_col2\" class=\"col_heading level0 col2\" >TOEFL Score</th>\n",
              "      <th id=\"T_29817_level0_col3\" class=\"col_heading level0 col3\" >University Rating</th>\n",
              "      <th id=\"T_29817_level0_col4\" class=\"col_heading level0 col4\" >SOP</th>\n",
              "      <th id=\"T_29817_level0_col5\" class=\"col_heading level0 col5\" >LOR </th>\n",
              "      <th id=\"T_29817_level0_col6\" class=\"col_heading level0 col6\" >CGPA</th>\n",
              "      <th id=\"T_29817_level0_col7\" class=\"col_heading level0 col7\" >Research</th>\n",
              "      <th id=\"T_29817_level0_col8\" class=\"col_heading level0 col8\" >Chance of Admit </th>\n",
              "    </tr>\n",
              "  </thead>\n",
              "  <tbody>\n",
              "    <tr>\n",
              "      <th id=\"T_29817_level0_row0\" class=\"row_heading level0 row0\" >0</th>\n",
              "      <td id=\"T_29817_row0_col0\" class=\"data row0 col0\" >1</td>\n",
              "      <td id=\"T_29817_row0_col1\" class=\"data row0 col1\" >337</td>\n",
              "      <td id=\"T_29817_row0_col2\" class=\"data row0 col2\" >118</td>\n",
              "      <td id=\"T_29817_row0_col3\" class=\"data row0 col3\" >4</td>\n",
              "      <td id=\"T_29817_row0_col4\" class=\"data row0 col4\" >4.500000</td>\n",
              "      <td id=\"T_29817_row0_col5\" class=\"data row0 col5\" >4.500000</td>\n",
              "      <td id=\"T_29817_row0_col6\" class=\"data row0 col6\" >9.650000</td>\n",
              "      <td id=\"T_29817_row0_col7\" class=\"data row0 col7\" >1</td>\n",
              "      <td id=\"T_29817_row0_col8\" class=\"data row0 col8\" >0.920000</td>\n",
              "    </tr>\n",
              "    <tr>\n",
              "      <th id=\"T_29817_level0_row1\" class=\"row_heading level0 row1\" >1</th>\n",
              "      <td id=\"T_29817_row1_col0\" class=\"data row1 col0\" >2</td>\n",
              "      <td id=\"T_29817_row1_col1\" class=\"data row1 col1\" >324</td>\n",
              "      <td id=\"T_29817_row1_col2\" class=\"data row1 col2\" >107</td>\n",
              "      <td id=\"T_29817_row1_col3\" class=\"data row1 col3\" >4</td>\n",
              "      <td id=\"T_29817_row1_col4\" class=\"data row1 col4\" >4.000000</td>\n",
              "      <td id=\"T_29817_row1_col5\" class=\"data row1 col5\" >4.500000</td>\n",
              "      <td id=\"T_29817_row1_col6\" class=\"data row1 col6\" >8.870000</td>\n",
              "      <td id=\"T_29817_row1_col7\" class=\"data row1 col7\" >1</td>\n",
              "      <td id=\"T_29817_row1_col8\" class=\"data row1 col8\" >0.760000</td>\n",
              "    </tr>\n",
              "    <tr>\n",
              "      <th id=\"T_29817_level0_row2\" class=\"row_heading level0 row2\" >2</th>\n",
              "      <td id=\"T_29817_row2_col0\" class=\"data row2 col0\" >3</td>\n",
              "      <td id=\"T_29817_row2_col1\" class=\"data row2 col1\" >316</td>\n",
              "      <td id=\"T_29817_row2_col2\" class=\"data row2 col2\" >104</td>\n",
              "      <td id=\"T_29817_row2_col3\" class=\"data row2 col3\" >3</td>\n",
              "      <td id=\"T_29817_row2_col4\" class=\"data row2 col4\" >3.000000</td>\n",
              "      <td id=\"T_29817_row2_col5\" class=\"data row2 col5\" >3.500000</td>\n",
              "      <td id=\"T_29817_row2_col6\" class=\"data row2 col6\" >8.000000</td>\n",
              "      <td id=\"T_29817_row2_col7\" class=\"data row2 col7\" >1</td>\n",
              "      <td id=\"T_29817_row2_col8\" class=\"data row2 col8\" >0.720000</td>\n",
              "    </tr>\n",
              "    <tr>\n",
              "      <th id=\"T_29817_level0_row3\" class=\"row_heading level0 row3\" >3</th>\n",
              "      <td id=\"T_29817_row3_col0\" class=\"data row3 col0\" >4</td>\n",
              "      <td id=\"T_29817_row3_col1\" class=\"data row3 col1\" >322</td>\n",
              "      <td id=\"T_29817_row3_col2\" class=\"data row3 col2\" >110</td>\n",
              "      <td id=\"T_29817_row3_col3\" class=\"data row3 col3\" >3</td>\n",
              "      <td id=\"T_29817_row3_col4\" class=\"data row3 col4\" >3.500000</td>\n",
              "      <td id=\"T_29817_row3_col5\" class=\"data row3 col5\" >2.500000</td>\n",
              "      <td id=\"T_29817_row3_col6\" class=\"data row3 col6\" >8.670000</td>\n",
              "      <td id=\"T_29817_row3_col7\" class=\"data row3 col7\" >1</td>\n",
              "      <td id=\"T_29817_row3_col8\" class=\"data row3 col8\" >0.800000</td>\n",
              "    </tr>\n",
              "    <tr>\n",
              "      <th id=\"T_29817_level0_row4\" class=\"row_heading level0 row4\" >4</th>\n",
              "      <td id=\"T_29817_row4_col0\" class=\"data row4 col0\" >5</td>\n",
              "      <td id=\"T_29817_row4_col1\" class=\"data row4 col1\" >314</td>\n",
              "      <td id=\"T_29817_row4_col2\" class=\"data row4 col2\" >103</td>\n",
              "      <td id=\"T_29817_row4_col3\" class=\"data row4 col3\" >2</td>\n",
              "      <td id=\"T_29817_row4_col4\" class=\"data row4 col4\" >2.000000</td>\n",
              "      <td id=\"T_29817_row4_col5\" class=\"data row4 col5\" >3.000000</td>\n",
              "      <td id=\"T_29817_row4_col6\" class=\"data row4 col6\" >8.210000</td>\n",
              "      <td id=\"T_29817_row4_col7\" class=\"data row4 col7\" >0</td>\n",
              "      <td id=\"T_29817_row4_col8\" class=\"data row4 col8\" >0.650000</td>\n",
              "    </tr>\n",
              "  </tbody>\n",
              "</table>\n"
            ]
          },
          "metadata": {},
          "execution_count": 29
        }
      ]
    },
    {
      "cell_type": "code",
      "source": [
        "from statsmodels.stats.outliers_influence import variance_inflation_factor\n",
        "import statsmodels.api as sm\n",
        "# Checking for Multicollinearity\n",
        "#correlation_matrix = df.drop('Chance of Admit ', axis=1).corr()\n",
        "#print(correlation_matrix)\n",
        "\n",
        "# Calculating VIF\n",
        "#X_with_intercept = sm.add_constant(X_train)\n",
        "vif_data = pd.DataFrame()\n",
        "vif_data[\"Variable\"] = X.columns\n",
        "vif_data[\"VIF\"] = [variance_inflation_factor(X.values, i) for i in range(len(X.columns))]\n",
        "print(vif_data)"
      ],
      "metadata": {
        "colab": {
          "base_uri": "https://localhost:8080/"
        },
        "id": "_sJiKjwprgKJ",
        "outputId": "fa566dc2-6ece-4f5e-c023-c7330c380eae"
      },
      "execution_count": null,
      "outputs": [
        {
          "output_type": "stream",
          "name": "stdout",
          "text": [
            "            Variable          VIF\n",
            "0         Serial No.     4.159745\n",
            "1          GRE Score  1328.233222\n",
            "2        TOEFL Score  1230.783122\n",
            "3  University Rating    20.934147\n",
            "4                SOP    36.155544\n",
            "5               LOR     31.231834\n",
            "6               CGPA   952.907558\n",
            "7           Research     2.869689\n"
          ]
        }
      ]
    },
    {
      "cell_type": "code",
      "source": [
        "#spliting train and test\n",
        "\n",
        "X_train, X_test, y_train, y_test = train_test_split(X, y, test_size=0.2, random_state=42)"
      ],
      "metadata": {
        "id": "6cFTRl7tB_wI"
      },
      "execution_count": null,
      "outputs": []
    },
    {
      "cell_type": "code",
      "source": [
        "X_test.head()"
      ],
      "metadata": {
        "colab": {
          "base_uri": "https://localhost:8080/",
          "height": 206
        },
        "id": "Sm3hgeNc6Zx9",
        "outputId": "55140901-0b04-43bf-8210-5efdd4d9e082"
      },
      "execution_count": null,
      "outputs": [
        {
          "output_type": "execute_result",
          "data": {
            "text/plain": [
              "     University Rating  LOR   CGPA  Research\n",
              "361                  4   3.5  9.54         1\n",
              "73                   4   4.0  9.04         1\n",
              "374                  2   2.5  7.65         0\n",
              "155                  3   3.0  8.69         0\n",
              "104                  3   3.0  9.05         1"
            ],
            "text/html": [
              "\n",
              "  <div id=\"df-d074b7a8-e744-47b7-8e6a-8c033736777b\" class=\"colab-df-container\">\n",
              "    <div>\n",
              "<style scoped>\n",
              "    .dataframe tbody tr th:only-of-type {\n",
              "        vertical-align: middle;\n",
              "    }\n",
              "\n",
              "    .dataframe tbody tr th {\n",
              "        vertical-align: top;\n",
              "    }\n",
              "\n",
              "    .dataframe thead th {\n",
              "        text-align: right;\n",
              "    }\n",
              "</style>\n",
              "<table border=\"1\" class=\"dataframe\">\n",
              "  <thead>\n",
              "    <tr style=\"text-align: right;\">\n",
              "      <th></th>\n",
              "      <th>University Rating</th>\n",
              "      <th>LOR</th>\n",
              "      <th>CGPA</th>\n",
              "      <th>Research</th>\n",
              "    </tr>\n",
              "  </thead>\n",
              "  <tbody>\n",
              "    <tr>\n",
              "      <th>361</th>\n",
              "      <td>4</td>\n",
              "      <td>3.5</td>\n",
              "      <td>9.54</td>\n",
              "      <td>1</td>\n",
              "    </tr>\n",
              "    <tr>\n",
              "      <th>73</th>\n",
              "      <td>4</td>\n",
              "      <td>4.0</td>\n",
              "      <td>9.04</td>\n",
              "      <td>1</td>\n",
              "    </tr>\n",
              "    <tr>\n",
              "      <th>374</th>\n",
              "      <td>2</td>\n",
              "      <td>2.5</td>\n",
              "      <td>7.65</td>\n",
              "      <td>0</td>\n",
              "    </tr>\n",
              "    <tr>\n",
              "      <th>155</th>\n",
              "      <td>3</td>\n",
              "      <td>3.0</td>\n",
              "      <td>8.69</td>\n",
              "      <td>0</td>\n",
              "    </tr>\n",
              "    <tr>\n",
              "      <th>104</th>\n",
              "      <td>3</td>\n",
              "      <td>3.0</td>\n",
              "      <td>9.05</td>\n",
              "      <td>1</td>\n",
              "    </tr>\n",
              "  </tbody>\n",
              "</table>\n",
              "</div>\n",
              "    <div class=\"colab-df-buttons\">\n",
              "\n",
              "  <div class=\"colab-df-container\">\n",
              "    <button class=\"colab-df-convert\" onclick=\"convertToInteractive('df-d074b7a8-e744-47b7-8e6a-8c033736777b')\"\n",
              "            title=\"Convert this dataframe to an interactive table.\"\n",
              "            style=\"display:none;\">\n",
              "\n",
              "  <svg xmlns=\"http://www.w3.org/2000/svg\" height=\"24px\" viewBox=\"0 -960 960 960\">\n",
              "    <path d=\"M120-120v-720h720v720H120Zm60-500h600v-160H180v160Zm220 220h160v-160H400v160Zm0 220h160v-160H400v160ZM180-400h160v-160H180v160Zm440 0h160v-160H620v160ZM180-180h160v-160H180v160Zm440 0h160v-160H620v160Z\"/>\n",
              "  </svg>\n",
              "    </button>\n",
              "\n",
              "  <style>\n",
              "    .colab-df-container {\n",
              "      display:flex;\n",
              "      gap: 12px;\n",
              "    }\n",
              "\n",
              "    .colab-df-convert {\n",
              "      background-color: #E8F0FE;\n",
              "      border: none;\n",
              "      border-radius: 50%;\n",
              "      cursor: pointer;\n",
              "      display: none;\n",
              "      fill: #1967D2;\n",
              "      height: 32px;\n",
              "      padding: 0 0 0 0;\n",
              "      width: 32px;\n",
              "    }\n",
              "\n",
              "    .colab-df-convert:hover {\n",
              "      background-color: #E2EBFA;\n",
              "      box-shadow: 0px 1px 2px rgba(60, 64, 67, 0.3), 0px 1px 3px 1px rgba(60, 64, 67, 0.15);\n",
              "      fill: #174EA6;\n",
              "    }\n",
              "\n",
              "    .colab-df-buttons div {\n",
              "      margin-bottom: 4px;\n",
              "    }\n",
              "\n",
              "    [theme=dark] .colab-df-convert {\n",
              "      background-color: #3B4455;\n",
              "      fill: #D2E3FC;\n",
              "    }\n",
              "\n",
              "    [theme=dark] .colab-df-convert:hover {\n",
              "      background-color: #434B5C;\n",
              "      box-shadow: 0px 1px 3px 1px rgba(0, 0, 0, 0.15);\n",
              "      filter: drop-shadow(0px 1px 2px rgba(0, 0, 0, 0.3));\n",
              "      fill: #FFFFFF;\n",
              "    }\n",
              "  </style>\n",
              "\n",
              "    <script>\n",
              "      const buttonEl =\n",
              "        document.querySelector('#df-d074b7a8-e744-47b7-8e6a-8c033736777b button.colab-df-convert');\n",
              "      buttonEl.style.display =\n",
              "        google.colab.kernel.accessAllowed ? 'block' : 'none';\n",
              "\n",
              "      async function convertToInteractive(key) {\n",
              "        const element = document.querySelector('#df-d074b7a8-e744-47b7-8e6a-8c033736777b');\n",
              "        const dataTable =\n",
              "          await google.colab.kernel.invokeFunction('convertToInteractive',\n",
              "                                                    [key], {});\n",
              "        if (!dataTable) return;\n",
              "\n",
              "        const docLinkHtml = 'Like what you see? Visit the ' +\n",
              "          '<a target=\"_blank\" href=https://colab.research.google.com/notebooks/data_table.ipynb>data table notebook</a>'\n",
              "          + ' to learn more about interactive tables.';\n",
              "        element.innerHTML = '';\n",
              "        dataTable['output_type'] = 'display_data';\n",
              "        await google.colab.output.renderOutput(dataTable, element);\n",
              "        const docLink = document.createElement('div');\n",
              "        docLink.innerHTML = docLinkHtml;\n",
              "        element.appendChild(docLink);\n",
              "      }\n",
              "    </script>\n",
              "  </div>\n",
              "\n",
              "\n",
              "<div id=\"df-c8c35250-fd21-4138-8f78-4daba1f60e5c\">\n",
              "  <button class=\"colab-df-quickchart\" onclick=\"quickchart('df-c8c35250-fd21-4138-8f78-4daba1f60e5c')\"\n",
              "            title=\"Suggest charts\"\n",
              "            style=\"display:none;\">\n",
              "\n",
              "<svg xmlns=\"http://www.w3.org/2000/svg\" height=\"24px\"viewBox=\"0 0 24 24\"\n",
              "     width=\"24px\">\n",
              "    <g>\n",
              "        <path d=\"M19 3H5c-1.1 0-2 .9-2 2v14c0 1.1.9 2 2 2h14c1.1 0 2-.9 2-2V5c0-1.1-.9-2-2-2zM9 17H7v-7h2v7zm4 0h-2V7h2v10zm4 0h-2v-4h2v4z\"/>\n",
              "    </g>\n",
              "</svg>\n",
              "  </button>\n",
              "\n",
              "<style>\n",
              "  .colab-df-quickchart {\n",
              "      --bg-color: #E8F0FE;\n",
              "      --fill-color: #1967D2;\n",
              "      --hover-bg-color: #E2EBFA;\n",
              "      --hover-fill-color: #174EA6;\n",
              "      --disabled-fill-color: #AAA;\n",
              "      --disabled-bg-color: #DDD;\n",
              "  }\n",
              "\n",
              "  [theme=dark] .colab-df-quickchart {\n",
              "      --bg-color: #3B4455;\n",
              "      --fill-color: #D2E3FC;\n",
              "      --hover-bg-color: #434B5C;\n",
              "      --hover-fill-color: #FFFFFF;\n",
              "      --disabled-bg-color: #3B4455;\n",
              "      --disabled-fill-color: #666;\n",
              "  }\n",
              "\n",
              "  .colab-df-quickchart {\n",
              "    background-color: var(--bg-color);\n",
              "    border: none;\n",
              "    border-radius: 50%;\n",
              "    cursor: pointer;\n",
              "    display: none;\n",
              "    fill: var(--fill-color);\n",
              "    height: 32px;\n",
              "    padding: 0;\n",
              "    width: 32px;\n",
              "  }\n",
              "\n",
              "  .colab-df-quickchart:hover {\n",
              "    background-color: var(--hover-bg-color);\n",
              "    box-shadow: 0 1px 2px rgba(60, 64, 67, 0.3), 0 1px 3px 1px rgba(60, 64, 67, 0.15);\n",
              "    fill: var(--button-hover-fill-color);\n",
              "  }\n",
              "\n",
              "  .colab-df-quickchart-complete:disabled,\n",
              "  .colab-df-quickchart-complete:disabled:hover {\n",
              "    background-color: var(--disabled-bg-color);\n",
              "    fill: var(--disabled-fill-color);\n",
              "    box-shadow: none;\n",
              "  }\n",
              "\n",
              "  .colab-df-spinner {\n",
              "    border: 2px solid var(--fill-color);\n",
              "    border-color: transparent;\n",
              "    border-bottom-color: var(--fill-color);\n",
              "    animation:\n",
              "      spin 1s steps(1) infinite;\n",
              "  }\n",
              "\n",
              "  @keyframes spin {\n",
              "    0% {\n",
              "      border-color: transparent;\n",
              "      border-bottom-color: var(--fill-color);\n",
              "      border-left-color: var(--fill-color);\n",
              "    }\n",
              "    20% {\n",
              "      border-color: transparent;\n",
              "      border-left-color: var(--fill-color);\n",
              "      border-top-color: var(--fill-color);\n",
              "    }\n",
              "    30% {\n",
              "      border-color: transparent;\n",
              "      border-left-color: var(--fill-color);\n",
              "      border-top-color: var(--fill-color);\n",
              "      border-right-color: var(--fill-color);\n",
              "    }\n",
              "    40% {\n",
              "      border-color: transparent;\n",
              "      border-right-color: var(--fill-color);\n",
              "      border-top-color: var(--fill-color);\n",
              "    }\n",
              "    60% {\n",
              "      border-color: transparent;\n",
              "      border-right-color: var(--fill-color);\n",
              "    }\n",
              "    80% {\n",
              "      border-color: transparent;\n",
              "      border-right-color: var(--fill-color);\n",
              "      border-bottom-color: var(--fill-color);\n",
              "    }\n",
              "    90% {\n",
              "      border-color: transparent;\n",
              "      border-bottom-color: var(--fill-color);\n",
              "    }\n",
              "  }\n",
              "</style>\n",
              "\n",
              "  <script>\n",
              "    async function quickchart(key) {\n",
              "      const quickchartButtonEl =\n",
              "        document.querySelector('#' + key + ' button');\n",
              "      quickchartButtonEl.disabled = true;  // To prevent multiple clicks.\n",
              "      quickchartButtonEl.classList.add('colab-df-spinner');\n",
              "      try {\n",
              "        const charts = await google.colab.kernel.invokeFunction(\n",
              "            'suggestCharts', [key], {});\n",
              "      } catch (error) {\n",
              "        console.error('Error during call to suggestCharts:', error);\n",
              "      }\n",
              "      quickchartButtonEl.classList.remove('colab-df-spinner');\n",
              "      quickchartButtonEl.classList.add('colab-df-quickchart-complete');\n",
              "    }\n",
              "    (() => {\n",
              "      let quickchartButtonEl =\n",
              "        document.querySelector('#df-c8c35250-fd21-4138-8f78-4daba1f60e5c button');\n",
              "      quickchartButtonEl.style.display =\n",
              "        google.colab.kernel.accessAllowed ? 'block' : 'none';\n",
              "    })();\n",
              "  </script>\n",
              "</div>\n",
              "\n",
              "    </div>\n",
              "  </div>\n"
            ]
          },
          "metadata": {},
          "execution_count": 15
        }
      ]
    },
    {
      "cell_type": "code",
      "source": [
        "print(X_train.shape)\n",
        "print(y_train.shape)"
      ],
      "metadata": {
        "colab": {
          "base_uri": "https://localhost:8080/"
        },
        "id": "1l-Keq5_4dU6",
        "outputId": "ae73ec8e-b0aa-49c1-ea03-4b992ed2f24c"
      },
      "execution_count": null,
      "outputs": [
        {
          "output_type": "stream",
          "name": "stdout",
          "text": [
            "(400, 4)\n",
            "(400,)\n"
          ]
        }
      ]
    },
    {
      "cell_type": "code",
      "source": [
        "X.columns"
      ],
      "metadata": {
        "colab": {
          "base_uri": "https://localhost:8080/"
        },
        "id": "MUgbkKNFrUIA",
        "outputId": "66af3996-c5cf-4b2d-fc15-062dbca15df3"
      },
      "execution_count": 40,
      "outputs": [
        {
          "output_type": "execute_result",
          "data": {
            "text/plain": [
              "Index(['Serial No.', 'GRE Score', 'TOEFL Score', 'University Rating', 'SOP',\n",
              "       'LOR ', 'CGPA', 'Research'],\n",
              "      dtype='object')"
            ]
          },
          "metadata": {},
          "execution_count": 40
        }
      ]
    },
    {
      "cell_type": "markdown",
      "source": [
        "# Scatter plot for GRE Scores vs. Chance of Admit"
      ],
      "metadata": {
        "id": "Uv8-rRp8Ef3x"
      }
    },
    {
      "cell_type": "code",
      "source": [
        "\n",
        "plt.scatter(df['GRE Score'], df['Chance of Admit '])\n",
        "plt.xlabel('GRE Score')\n",
        "plt.ylabel('Chance of Admit ')\n",
        "plt.title('Scatter Plot: GRE Scores vs. Chance of Admit')\n",
        "plt.show()\n",
        "\n",
        "# Repeat for other predictor variables"
      ],
      "metadata": {
        "colab": {
          "base_uri": "https://localhost:8080/",
          "height": 472
        },
        "id": "N5eC2Vq2Eeuy",
        "outputId": "431db314-65e8-4a47-d6fa-cd2cf4c4fc78"
      },
      "execution_count": 47,
      "outputs": [
        {
          "output_type": "display_data",
          "data": {
            "text/plain": [
              "<Figure size 640x480 with 1 Axes>"
            ],
            "image/png": "[encoded data removed]"
          },
          "metadata": {}
        }
      ]
    },
    {
      "cell_type": "markdown",
      "source": [
        "#Linear Regression model"
      ],
      "metadata": {
        "id": "MQuRUcSyB0Fu"
      }
    },
    {
      "cell_type": "code",
      "source": [
        "# Initialize the model\n",
        "model = LinearRegression()\n",
        "\n",
        "# Fit the model on the training data\n",
        "model.fit(X_train, y_train)\n",
        "\n",
        "\n",
        "\n",
        "# Make predictions\n",
        "y_pred = model.predict(X_test)\n",
        "\n",
        "\n",
        "# Evaluate the model\n",
        "mse = mean_squared_error(y_test, y_pred)\n",
        "r2 = r2_score(y_test, y_pred)\n",
        "\n",
        "\n",
        "\n",
        "print(f'Mean Squared Error: {mse}')\n",
        "print(f'R-squared Value: {r2}')\n"
      ],
      "metadata": {
        "colab": {
          "base_uri": "https://localhost:8080/"
        },
        "id": "manhazHFCCy_",
        "outputId": "3d7d46b9-a93f-49c2-cfd8-c905ed7529e1"
      },
      "execution_count": 39,
      "outputs": [
        {
          "output_type": "stream",
          "name": "stdout",
          "text": [
            "Mean Squared Error: 0.0034501347328912023\n",
            "R-squared Value: 0.8312892551153447\n"
          ]
        }
      ]
    },
    {
      "cell_type": "markdown",
      "source": [
        "#Linear model with Min Max Scaling"
      ],
      "metadata": {
        "id": "gRgN9qPgq-xS"
      }
    },
    {
      "cell_type": "code",
      "source": [
        "\n",
        "# Min-Max scaling\n",
        "scaler = MinMaxScaler()\n",
        "X_train_scaled = scaler.fit_transform(X_train)\n",
        "X_test_scaled = scaler.transform(X_test)\n",
        "\n",
        "# Linear Regression Model\n",
        "model_scaled = LinearRegression()\n",
        "model_scaled.fit(X_train_scaled, y_train)\n",
        "\n",
        "# Model Evaluation\n",
        "y_pred_scaled = model_scaled.predict(X_test_scaled)\n",
        "mse_scaled = mean_squared_error(y_test, y_pred_scaled)\n",
        "r2_scaled = r2_score(y_test, y_pred_scaled)\n",
        "\n",
        "print(f'Mean Squared Error: {mse}')\n",
        "print(f'R-squared Value: {r2}')\n",
        "print(f'Mean Squared scaled Error: {mse_scaled}')\n",
        "print(f'R-squared scaled Value: {r2_scaled}')"
      ],
      "metadata": {
        "colab": {
          "base_uri": "https://localhost:8080/"
        },
        "id": "Myvsqj33nlMv",
        "outputId": "631d4a74-bf8e-4c86-ae6b-a3079139565f"
      },
      "execution_count": null,
      "outputs": [
        {
          "output_type": "stream",
          "name": "stdout",
          "text": [
            "Mean Squared Error: 0.003430725951893191\n",
            "R-squared Value: 0.8322383397607243\n",
            "Mean Squared scaled Error: 0.0034501347328911984\n",
            "R-squared scaled Value: 0.8312892551153448\n"
          ]
        }
      ]
    },
    {
      "cell_type": "markdown",
      "source": [
        "#Polynomial model"
      ],
      "metadata": {
        "id": "H2aj0OXwKiqr"
      }
    },
    {
      "cell_type": "code",
      "source": [
        "\n",
        "# Create polynomial feature transformer\n",
        "poly = PolynomialFeatures(degree=1, include_bias=False)  # Create quadratic features\n",
        "\n",
        "# Fit the polynomial features to the training data\n",
        "X_train_poly = poly.fit_transform(X_train)\n",
        "\n",
        "\n",
        "\n",
        "# Fit the model to the training data\n",
        "model.fit(X_train_poly, y_train)\n",
        "\n",
        "# Transform the testing data using the fitted transformer\n",
        "X_test_poly = poly.transform(X_test)\n",
        "\n",
        "# Make predictions on the testing data\n",
        "y_pred = model.predict(X_test_poly)\n",
        "\n",
        "# Print the first 10 predicted values and their corresponding true values\n",
        "print(\"Predicted values:\", y_pred[:10])\n",
        "print(\"True values:\", y_test[:10])\n",
        "\n",
        "# Evaluate the model's performance using mean squared error (MSE)\n",
        "from sklearn.metrics import mean_squared_error\n",
        "mse = mean_squared_error(y_test, y_pred)\n",
        "r2 = r2_score(y_test, y_pred)\n",
        "\n",
        "print(\"Mean squared error:\", mse)\n",
        "print(\"R squared Value:\", r2)"
      ],
      "metadata": {
        "colab": {
          "base_uri": "https://localhost:8080/"
        },
        "id": "BPL4It9iQ8TY",
        "outputId": "25dd23ab-fc59-4405-841a-81ee99b3b974"
      },
      "execution_count": null,
      "outputs": [
        {
          "output_type": "stream",
          "name": "stdout",
          "text": [
            "Predicted values: [0.9025771  0.82990061 0.52944727 0.71380646 0.80676455 0.86048945\n",
            " 0.49803228 0.68749288 0.84977444 0.80874217]\n",
            "True values: 361    0.93\n",
            "73     0.84\n",
            "374    0.39\n",
            "155    0.77\n",
            "104    0.74\n",
            "394    0.89\n",
            "377    0.47\n",
            "124    0.57\n",
            "68     0.68\n",
            "450    0.82\n",
            "Name: Chance of Admit , dtype: float64\n",
            "Mean squared error: 0.003430725951893191\n",
            "R squared Value: 0.8322383397607243\n"
          ]
        }
      ]
    },
    {
      "cell_type": "markdown",
      "source": [
        "#LASSO MODEL"
      ],
      "metadata": {
        "id": "6YeUYtA5qgSg"
      }
    },
    {
      "cell_type": "code",
      "source": [
        "\n",
        "# Initialize the model\n",
        "model = linear_model.Lasso(alpha=0.001)\n",
        "model_scaled = LinearRegression()\n",
        "\n",
        "\n",
        "# Fit the model on the training data\n",
        "model.fit(X_train, y_train)\n",
        "\n",
        "# Make predictions\n",
        "y_pred = model.predict(X_test)\n",
        "\n",
        "\n",
        "# Evaluate the model\n",
        "mse = mean_squared_error(y_test, y_pred)\n",
        "r2 = r2_score(y_test, y_pred)\n",
        "\n",
        "\n",
        "\n",
        "print(f'Mean Squared Error: {mse}')\n",
        "print(f'R-squared Value: {r2}')\n",
        "coefficients = pd.DataFrame({'Feature': X.columns, 'Coefficient': model.coef_})\n",
        "print(coefficients)\n",
        "\n",
        "\n",
        "\n",
        "\n",
        "plt.scatter(y_test, y_pred)\n",
        "plt.xlabel('Actual Values')\n",
        "plt.ylabel('Predicted Values')\n",
        "plt.title('Actual vs. Predicted Values')\n",
        "plt.show()\n",
        "\n",
        "\n"
      ],
      "metadata": {
        "colab": {
          "base_uri": "https://localhost:8080/",
          "height": 600
        },
        "id": "qashkL-zCDvp",
        "outputId": "4cc00b01-8af1-4e87-9ead-1308c6dbda63"
      },
      "execution_count": null,
      "outputs": [
        {
          "output_type": "stream",
          "name": "stdout",
          "text": [
            "Mean Squared Error: 0.003430725951893191\n",
            "R-squared Value: 0.8322383397607243\n",
            "             Feature  Coefficient\n",
            "0  University Rating     0.009105\n",
            "1               LOR      0.015641\n",
            "2               CGPA     0.160994\n",
            "3           Research     0.035000\n"
          ]
        },
        {
          "output_type": "display_data",
          "data": {
            "text/plain": [
              "<Figure size 640x480 with 1 Axes>"
            ],
            "image/png": "[encoded data removed]"
          },
          "metadata": {}
        }
      ]
    },
    {
      "cell_type": "code",
      "source": [],
      "metadata": {
        "id": "2cD-rCAHuv0K"
      },
      "execution_count": null,
      "outputs": []
    },
    {
      "cell_type": "markdown",
      "source": [
        "#SGD Model"
      ],
      "metadata": {
        "id": "1RGmC8x7EEXZ"
      }
    },
    {
      "cell_type": "code",
      "source": [
        "\n",
        "from sklearn.linear_model import SGDRegressor\n",
        "import numpy as np\n",
        "\n",
        "# Initialize the SGDRegressor with 'loss' set to 'squared_loss' for linear regression\n",
        "sgd_model = SGDRegressor(loss='squared_error', random_state=42)\n",
        "\n",
        "# Training parameters\n",
        "epochs = 1000\n",
        "learning_rate = 0.01\n",
        "\n",
        "# Lists to store iteration and loss values\n",
        "iterations = []\n",
        "losses = []\n",
        "\n",
        "# Manual training loop\n",
        "for epoch in range(epochs):\n",
        "    sgd_model.partial_fit(X_train_scaled, y_train)\n",
        "\n",
        "    # Calculate loss at each iteration\n",
        "    y_pred = sgd_model.predict(X_train_scaled)\n",
        "    mse = mean_squared_error(y_train, y_pred)\n",
        "\n",
        "    # Append iteration and loss values to lists\n",
        "    iterations.append(epoch)\n",
        "    losses.append(mse)\n",
        "\n",
        "\n",
        "\n",
        "# Plot the loss curve\n",
        "plt.plot(iterations, losses)\n",
        "plt.xlabel('Iterations')\n",
        "plt.ylabel('Mean Squared Error')\n",
        "plt.title('Loss Curve for Linear Regression (SGD)')\n",
        "plt.show()\n",
        "\n",
        "\n",
        "y_pred = sgd_model.predict(X_test_scaled)\n",
        "r2 = r2_score(y_test, y_pred)\n",
        "\n",
        "print(\"Mean squared error:\", mse)\n",
        "print(\"R squared Value:\", r2)"
      ],
      "metadata": {
        "colab": {
          "base_uri": "https://localhost:8080/",
          "height": 509
        },
        "id": "QC2TpLft-g4i",
        "outputId": "687c1abe-83dc-49c5-ef54-47a8a99aa152"
      },
      "execution_count": 46,
      "outputs": [
        {
          "output_type": "display_data",
          "data": {
            "text/plain": [
              "<Figure size 640x480 with 1 Axes>"
            ],
            "image/png": "[encoded data removed]"
          },
          "metadata": {}
        },
        {
          "output_type": "stream",
          "name": "stdout",
          "text": [
            "Mean squared error: 0.003984487165664444\n",
            "R squared Value: 0.8317625704673492\n"
          ]
        }
      ]
    },
    {
      "cell_type": "code",
      "source": [
        "y_head,x_head = y_test[:10],X_test[:10]\n",
        "y_head.values\n"
      ],
      "metadata": {
        "colab": {
          "base_uri": "https://localhost:8080/"
        },
        "id": "beC9rGYdDint",
        "outputId": "d73ed49c-bcb1-4b0a-8e66-a3692ebe5b3e"
      },
      "execution_count": 45,
      "outputs": [
        {
          "output_type": "execute_result",
          "data": {
            "text/plain": [
              "array([0.93, 0.84, 0.39, 0.77, 0.74, 0.89, 0.47, 0.57, 0.68, 0.82])"
            ]
          },
          "metadata": {},
          "execution_count": 45
        }
      ]
    },
    {
      "cell_type": "code",
      "source": [
        "y_pred_head = model.predict(x_head)\n",
        "np.round(y_pred_head,2)"
      ],
      "metadata": {
        "colab": {
          "base_uri": "https://localhost:8080/"
        },
        "id": "t9fpOjhYDj_a",
        "outputId": "f952865b-e4f6-47d5-b84b-a6e94764a903"
      },
      "execution_count": 43,
      "outputs": [
        {
          "output_type": "execute_result",
          "data": {
            "text/plain": [
              "array([0.91, 0.83, 0.53, 0.71, 0.81, 0.86, 0.5 , 0.68, 0.85, 0.81])"
            ]
          },
          "metadata": {},
          "execution_count": 43
        }
      ]
    },
    {
      "cell_type": "code",
      "source": [
        "\n",
        "y_pred_scaled_head = model_scaled.predict(x_head)\n",
        "np.round(y_pred_head,2)"
      ],
      "metadata": {
        "colab": {
          "base_uri": "https://localhost:8080/"
        },
        "id": "fmcEQcpw16TT",
        "outputId": "da67d364-e8af-49e2-d076-b3a4f8429b82"
      },
      "execution_count": 44,
      "outputs": [
        {
          "output_type": "stream",
          "name": "stderr",
          "text": [
            "/usr/local/lib/python3.10/dist-packages/sklearn/base.py:432: UserWarning: X has feature names, but LinearRegression was fitted without feature names\n",
            "  warnings.warn(\n"
          ]
        },
        {
          "output_type": "execute_result",
          "data": {
            "text/plain": [
              "array([0.91, 0.83, 0.53, 0.71, 0.81, 0.86, 0.5 , 0.68, 0.85, 0.81])"
            ]
          },
          "metadata": {},
          "execution_count": 44
        }
      ]
    }
  ]
}